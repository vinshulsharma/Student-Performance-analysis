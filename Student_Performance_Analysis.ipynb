{
  "nbformat": 4,
  "nbformat_minor": 0,
  "metadata": {
    "colab": {
      "name": "TARP_project",
      "provenance": [],
      "collapsed_sections": [
        "_197dAffXJn9",
        "XCjUkDZfXNoZ",
        "L1wuPUOQXSy_",
        "5crx74xDZXOW",
        "_BwlA13Rg0gn",
        "cGdWuDD7oJcP",
        "LOGK8LFUg652",
        "4XglJ_W5ZdzN"
      ],
      "include_colab_link": true
    },
    "kernelspec": {
      "display_name": "Python 3",
      "name": "python3"
    },
    "language_info": {
      "name": "python"
    }
  },
  "cells": [
    {
      "cell_type": "markdown",
      "metadata": {
        "id": "view-in-github",
        "colab_type": "text"
      },
      "source": [
        "<a href=\"https://colab.research.google.com/github/sumitajmera/Student-Performance-analysis/blob/main/Student_Performance_Analysis.ipynb\" target=\"_parent\"><img src=\"https://colab.research.google.com/assets/colab-badge.svg\" alt=\"Open In Colab\"/></a>"
      ]
    },
    {
      "cell_type": "markdown",
      "metadata": {
        "id": "QP6I2gTTHY62"
      },
      "source": [
        "# Student Performance Mining"
      ]
    },
    {
      "cell_type": "code",
      "metadata": {
        "id": "oWJZxlWma3Ez",
        "colab": {
          "base_uri": "https://localhost:8080/"
        },
        "outputId": "48240875-1acb-4a07-d438-480afbfda01d"
      },
      "source": [
        "import numpy as np  \n",
        "import pandas as pd\n",
        "import random\n",
        "\n",
        "# Import libraries for plotting data\n",
        "import matplotlib.pyplot as plt\n",
        "\n",
        "# Import the classifiers used for creating the models\n",
        "from sklearn.tree import DecisionTreeClassifier\n",
        "from sklearn.naive_bayes import BernoulliNB\n",
        "from sklearn.tree import ExtraTreeClassifier\n",
        "from sklearn.neighbors import KNeighborsClassifier\n",
        "from sklearn.naive_bayes import GaussianNB\n",
        "from sklearn.discriminant_analysis import LinearDiscriminantAnalysis\n",
        "from sklearn.semi_supervised import LabelSpreading\n",
        "from sklearn.svm import LinearSVC\n",
        "from sklearn.neighbors.nearest_centroid import NearestCentroid\n",
        "from sklearn.ensemble import RandomForestClassifier\n",
        "#from sklearn.ensemble import Classifier\n",
        "from lightgbm import LGBMClassifier\n",
        "\n",
        "# Import the metrics libraries for comparinf the results from these algorithms\n",
        "from sklearn.metrics import f1_score\n",
        "from sklearn.metrics import accuracy_score\n",
        "\n",
        "from sklearn.model_selection import train_test_split\n",
        "from sklearn.model_selection import KFold"
      ],
      "execution_count": null,
      "outputs": [
        {
          "output_type": "stream",
          "text": [
            "/usr/local/lib/python3.7/dist-packages/sklearn/utils/deprecation.py:144: FutureWarning: The sklearn.neighbors.nearest_centroid module is  deprecated in version 0.22 and will be removed in version 0.24. The corresponding classes / functions should instead be imported from sklearn.neighbors. Anything that cannot be imported from sklearn.neighbors is now part of the private API.\n",
            "  warnings.warn(message, FutureWarning)\n"
          ],
          "name": "stderr"
        }
      ]
    },
    {
      "cell_type": "markdown",
      "metadata": {
        "id": "TXfY6erOHTFD"
      },
      "source": [
        "## 1. Data Import and Pre-processing"
      ]
    },
    {
      "cell_type": "code",
      "metadata": {
        "id": "2V9eI1TDbtjw"
      },
      "source": [
        "df_por = pd.read_csv('student-por.csv', sep=\";\")\n",
        "df_mat  = pd.read_csv('student-mat.csv', sep = \";\")\n"
      ],
      "execution_count": null,
      "outputs": []
    },
    {
      "cell_type": "code",
      "metadata": {
        "colab": {
          "base_uri": "https://localhost:8080/"
        },
        "id": "PCdfeyfKb1jR",
        "outputId": "e24852e8-befe-4c25-b240-0ac69a50c193"
      },
      "source": [
        "df_por.head()\n",
        "df_por[\"address\"].value_counts()"
      ],
      "execution_count": null,
      "outputs": [
        {
          "output_type": "execute_result",
          "data": {
            "text/plain": [
              "U    452\n",
              "R    197\n",
              "Name: address, dtype: int64"
            ]
          },
          "metadata": {
            "tags": []
          },
          "execution_count": 5
        }
      ]
    },
    {
      "cell_type": "code",
      "metadata": {
        "colab": {
          "base_uri": "https://localhost:8080/",
          "height": 224
        },
        "id": "aOnAvQvHb5f6",
        "outputId": "07705a20-5688-4652-a628-ae6c6e2db68f"
      },
      "source": [
        "df_mat.head()"
      ],
      "execution_count": null,
      "outputs": [
        {
          "output_type": "execute_result",
          "data": {
            "text/html": [
              "<div>\n",
              "<style scoped>\n",
              "    .dataframe tbody tr th:only-of-type {\n",
              "        vertical-align: middle;\n",
              "    }\n",
              "\n",
              "    .dataframe tbody tr th {\n",
              "        vertical-align: top;\n",
              "    }\n",
              "\n",
              "    .dataframe thead th {\n",
              "        text-align: right;\n",
              "    }\n",
              "</style>\n",
              "<table border=\"1\" class=\"dataframe\">\n",
              "  <thead>\n",
              "    <tr style=\"text-align: right;\">\n",
              "      <th></th>\n",
              "      <th>school</th>\n",
              "      <th>sex</th>\n",
              "      <th>age</th>\n",
              "      <th>address</th>\n",
              "      <th>famsize</th>\n",
              "      <th>Pstatus</th>\n",
              "      <th>Medu</th>\n",
              "      <th>Fedu</th>\n",
              "      <th>Mjob</th>\n",
              "      <th>Fjob</th>\n",
              "      <th>reason</th>\n",
              "      <th>guardian</th>\n",
              "      <th>traveltime</th>\n",
              "      <th>studytime</th>\n",
              "      <th>failures</th>\n",
              "      <th>schoolsup</th>\n",
              "      <th>famsup</th>\n",
              "      <th>paid</th>\n",
              "      <th>activities</th>\n",
              "      <th>nursery</th>\n",
              "      <th>higher</th>\n",
              "      <th>internet</th>\n",
              "      <th>romantic</th>\n",
              "      <th>famrel</th>\n",
              "      <th>freetime</th>\n",
              "      <th>goout</th>\n",
              "      <th>Dalc</th>\n",
              "      <th>Walc</th>\n",
              "      <th>health</th>\n",
              "      <th>absences</th>\n",
              "      <th>G1</th>\n",
              "      <th>G2</th>\n",
              "      <th>G3</th>\n",
              "    </tr>\n",
              "  </thead>\n",
              "  <tbody>\n",
              "    <tr>\n",
              "      <th>0</th>\n",
              "      <td>GP</td>\n",
              "      <td>F</td>\n",
              "      <td>18</td>\n",
              "      <td>U</td>\n",
              "      <td>GT3</td>\n",
              "      <td>A</td>\n",
              "      <td>4</td>\n",
              "      <td>4</td>\n",
              "      <td>at_home</td>\n",
              "      <td>teacher</td>\n",
              "      <td>course</td>\n",
              "      <td>mother</td>\n",
              "      <td>2</td>\n",
              "      <td>2</td>\n",
              "      <td>0</td>\n",
              "      <td>yes</td>\n",
              "      <td>no</td>\n",
              "      <td>no</td>\n",
              "      <td>no</td>\n",
              "      <td>yes</td>\n",
              "      <td>yes</td>\n",
              "      <td>no</td>\n",
              "      <td>no</td>\n",
              "      <td>4</td>\n",
              "      <td>3</td>\n",
              "      <td>4</td>\n",
              "      <td>1</td>\n",
              "      <td>1</td>\n",
              "      <td>3</td>\n",
              "      <td>6</td>\n",
              "      <td>5</td>\n",
              "      <td>6</td>\n",
              "      <td>6</td>\n",
              "    </tr>\n",
              "    <tr>\n",
              "      <th>1</th>\n",
              "      <td>GP</td>\n",
              "      <td>F</td>\n",
              "      <td>17</td>\n",
              "      <td>U</td>\n",
              "      <td>GT3</td>\n",
              "      <td>T</td>\n",
              "      <td>1</td>\n",
              "      <td>1</td>\n",
              "      <td>at_home</td>\n",
              "      <td>other</td>\n",
              "      <td>course</td>\n",
              "      <td>father</td>\n",
              "      <td>1</td>\n",
              "      <td>2</td>\n",
              "      <td>0</td>\n",
              "      <td>no</td>\n",
              "      <td>yes</td>\n",
              "      <td>no</td>\n",
              "      <td>no</td>\n",
              "      <td>no</td>\n",
              "      <td>yes</td>\n",
              "      <td>yes</td>\n",
              "      <td>no</td>\n",
              "      <td>5</td>\n",
              "      <td>3</td>\n",
              "      <td>3</td>\n",
              "      <td>1</td>\n",
              "      <td>1</td>\n",
              "      <td>3</td>\n",
              "      <td>4</td>\n",
              "      <td>5</td>\n",
              "      <td>5</td>\n",
              "      <td>6</td>\n",
              "    </tr>\n",
              "    <tr>\n",
              "      <th>2</th>\n",
              "      <td>GP</td>\n",
              "      <td>F</td>\n",
              "      <td>15</td>\n",
              "      <td>U</td>\n",
              "      <td>LE3</td>\n",
              "      <td>T</td>\n",
              "      <td>1</td>\n",
              "      <td>1</td>\n",
              "      <td>at_home</td>\n",
              "      <td>other</td>\n",
              "      <td>other</td>\n",
              "      <td>mother</td>\n",
              "      <td>1</td>\n",
              "      <td>2</td>\n",
              "      <td>3</td>\n",
              "      <td>yes</td>\n",
              "      <td>no</td>\n",
              "      <td>yes</td>\n",
              "      <td>no</td>\n",
              "      <td>yes</td>\n",
              "      <td>yes</td>\n",
              "      <td>yes</td>\n",
              "      <td>no</td>\n",
              "      <td>4</td>\n",
              "      <td>3</td>\n",
              "      <td>2</td>\n",
              "      <td>2</td>\n",
              "      <td>3</td>\n",
              "      <td>3</td>\n",
              "      <td>10</td>\n",
              "      <td>7</td>\n",
              "      <td>8</td>\n",
              "      <td>10</td>\n",
              "    </tr>\n",
              "    <tr>\n",
              "      <th>3</th>\n",
              "      <td>GP</td>\n",
              "      <td>F</td>\n",
              "      <td>15</td>\n",
              "      <td>U</td>\n",
              "      <td>GT3</td>\n",
              "      <td>T</td>\n",
              "      <td>4</td>\n",
              "      <td>2</td>\n",
              "      <td>health</td>\n",
              "      <td>services</td>\n",
              "      <td>home</td>\n",
              "      <td>mother</td>\n",
              "      <td>1</td>\n",
              "      <td>3</td>\n",
              "      <td>0</td>\n",
              "      <td>no</td>\n",
              "      <td>yes</td>\n",
              "      <td>yes</td>\n",
              "      <td>yes</td>\n",
              "      <td>yes</td>\n",
              "      <td>yes</td>\n",
              "      <td>yes</td>\n",
              "      <td>yes</td>\n",
              "      <td>3</td>\n",
              "      <td>2</td>\n",
              "      <td>2</td>\n",
              "      <td>1</td>\n",
              "      <td>1</td>\n",
              "      <td>5</td>\n",
              "      <td>2</td>\n",
              "      <td>15</td>\n",
              "      <td>14</td>\n",
              "      <td>15</td>\n",
              "    </tr>\n",
              "    <tr>\n",
              "      <th>4</th>\n",
              "      <td>GP</td>\n",
              "      <td>F</td>\n",
              "      <td>16</td>\n",
              "      <td>U</td>\n",
              "      <td>GT3</td>\n",
              "      <td>T</td>\n",
              "      <td>3</td>\n",
              "      <td>3</td>\n",
              "      <td>other</td>\n",
              "      <td>other</td>\n",
              "      <td>home</td>\n",
              "      <td>father</td>\n",
              "      <td>1</td>\n",
              "      <td>2</td>\n",
              "      <td>0</td>\n",
              "      <td>no</td>\n",
              "      <td>yes</td>\n",
              "      <td>yes</td>\n",
              "      <td>no</td>\n",
              "      <td>yes</td>\n",
              "      <td>yes</td>\n",
              "      <td>no</td>\n",
              "      <td>no</td>\n",
              "      <td>4</td>\n",
              "      <td>3</td>\n",
              "      <td>2</td>\n",
              "      <td>1</td>\n",
              "      <td>2</td>\n",
              "      <td>5</td>\n",
              "      <td>4</td>\n",
              "      <td>6</td>\n",
              "      <td>10</td>\n",
              "      <td>10</td>\n",
              "    </tr>\n",
              "  </tbody>\n",
              "</table>\n",
              "</div>"
            ],
            "text/plain": [
              "  school sex  age address famsize Pstatus  ...  Walc  health absences  G1  G2  G3\n",
              "0     GP   F   18       U     GT3       A  ...     1       3        6   5   6   6\n",
              "1     GP   F   17       U     GT3       T  ...     1       3        4   5   5   6\n",
              "2     GP   F   15       U     LE3       T  ...     3       3       10   7   8  10\n",
              "3     GP   F   15       U     GT3       T  ...     1       5        2  15  14  15\n",
              "4     GP   F   16       U     GT3       T  ...     2       5        4   6  10  10\n",
              "\n",
              "[5 rows x 33 columns]"
            ]
          },
          "metadata": {
            "tags": []
          },
          "execution_count": 6
        }
      ]
    },
    {
      "cell_type": "code",
      "metadata": {
        "colab": {
          "base_uri": "https://localhost:8080/"
        },
        "id": "EdMq6oFjcCv5",
        "outputId": "44dd3043-13bd-4562-b9e1-f38478bcd2e3"
      },
      "source": [
        "df_por.info()"
      ],
      "execution_count": null,
      "outputs": [
        {
          "output_type": "stream",
          "text": [
            "<class 'pandas.core.frame.DataFrame'>\n",
            "RangeIndex: 649 entries, 0 to 648\n",
            "Data columns (total 33 columns):\n",
            " #   Column      Non-Null Count  Dtype \n",
            "---  ------      --------------  ----- \n",
            " 0   school      649 non-null    object\n",
            " 1   sex         649 non-null    object\n",
            " 2   age         649 non-null    int64 \n",
            " 3   address     649 non-null    object\n",
            " 4   famsize     649 non-null    object\n",
            " 5   Pstatus     649 non-null    object\n",
            " 6   Medu        649 non-null    int64 \n",
            " 7   Fedu        649 non-null    int64 \n",
            " 8   Mjob        649 non-null    object\n",
            " 9   Fjob        649 non-null    object\n",
            " 10  reason      649 non-null    object\n",
            " 11  guardian    649 non-null    object\n",
            " 12  traveltime  649 non-null    int64 \n",
            " 13  studytime   649 non-null    int64 \n",
            " 14  failures    649 non-null    int64 \n",
            " 15  schoolsup   649 non-null    object\n",
            " 16  famsup      649 non-null    object\n",
            " 17  paid        649 non-null    object\n",
            " 18  activities  649 non-null    object\n",
            " 19  nursery     649 non-null    object\n",
            " 20  higher      649 non-null    object\n",
            " 21  internet    649 non-null    object\n",
            " 22  romantic    649 non-null    object\n",
            " 23  famrel      649 non-null    int64 \n",
            " 24  freetime    649 non-null    int64 \n",
            " 25  goout       649 non-null    int64 \n",
            " 26  Dalc        649 non-null    int64 \n",
            " 27  Walc        649 non-null    int64 \n",
            " 28  health      649 non-null    int64 \n",
            " 29  absences    649 non-null    int64 \n",
            " 30  G1          649 non-null    int64 \n",
            " 31  G2          649 non-null    int64 \n",
            " 32  G3          649 non-null    int64 \n",
            "dtypes: int64(16), object(17)\n",
            "memory usage: 167.4+ KB\n"
          ],
          "name": "stdout"
        }
      ]
    },
    {
      "cell_type": "code",
      "metadata": {
        "colab": {
          "base_uri": "https://localhost:8080/"
        },
        "id": "XvDjdwaycJF9",
        "outputId": "3e9ca0a9-f8af-498c-e5f1-00fa887603c8"
      },
      "source": [
        "df_por.columns"
      ],
      "execution_count": null,
      "outputs": [
        {
          "output_type": "execute_result",
          "data": {
            "text/plain": [
              "Index(['school', 'sex', 'age', 'address', 'famsize', 'Pstatus', 'Medu', 'Fedu',\n",
              "       'Mjob', 'Fjob', 'reason', 'guardian', 'traveltime', 'studytime',\n",
              "       'failures', 'schoolsup', 'famsup', 'paid', 'activities', 'nursery',\n",
              "       'higher', 'internet', 'romantic', 'famrel', 'freetime', 'goout', 'Dalc',\n",
              "       'Walc', 'health', 'absences', 'G1', 'G2', 'G3'],\n",
              "      dtype='object')"
            ]
          },
          "metadata": {
            "tags": []
          },
          "execution_count": 8
        }
      ]
    },
    {
      "cell_type": "code",
      "metadata": {
        "colab": {
          "base_uri": "https://localhost:8080/"
        },
        "id": "NMncPcm3cRuV",
        "outputId": "4e9160a7-5855-4586-ba19-0521f2714ea0"
      },
      "source": [
        "len(df_por.columns)"
      ],
      "execution_count": null,
      "outputs": [
        {
          "output_type": "execute_result",
          "data": {
            "text/plain": [
              "33"
            ]
          },
          "metadata": {
            "tags": []
          },
          "execution_count": 9
        }
      ]
    },
    {
      "cell_type": "code",
      "metadata": {
        "colab": {
          "base_uri": "https://localhost:8080/"
        },
        "id": "NN3TdBKlcWJu",
        "outputId": "ac6d2a15-8fb2-441d-eac9-21191ad0e2fe"
      },
      "source": [
        "df_por.shape"
      ],
      "execution_count": null,
      "outputs": [
        {
          "output_type": "execute_result",
          "data": {
            "text/plain": [
              "(649, 33)"
            ]
          },
          "metadata": {
            "tags": []
          },
          "execution_count": 10
        }
      ]
    },
    {
      "cell_type": "code",
      "metadata": {
        "colab": {
          "base_uri": "https://localhost:8080/"
        },
        "id": "VcX0eIUhciXC",
        "outputId": "aee1f910-1fa4-4e3c-f06f-ea910b7c786c"
      },
      "source": [
        "df_mat.shape"
      ],
      "execution_count": null,
      "outputs": [
        {
          "output_type": "execute_result",
          "data": {
            "text/plain": [
              "(395, 33)"
            ]
          },
          "metadata": {
            "tags": []
          },
          "execution_count": 11
        }
      ]
    },
    {
      "cell_type": "code",
      "metadata": {
        "id": "m0-JS_jCk5DX"
      },
      "source": [
        "cleanup_nums = {\"yes\": 1, \"no\": 0, \"F\": 1, \"M\": 0, \"GP\": 1, \"MS\": 0, \"R\": 1, \"U\" : 0, \"GT3\": 1, \"LE3\" :0, \"A\":1, \"T\":0}\n",
        "\n",
        "df_por.replace(cleanup_nums, inplace=True)\n",
        "df_mat.replace(cleanup_nums, inplace=True)\n",
        "\n",
        "\n",
        "#dataMatExt= pd.get_dummies(dataMat, columns=[\"school\", \"sex\", \"address\", \"famsize\", \"Pstatus\", \"Mjob\", \"Fjob\", \"reason\", \"guardian\"])\n",
        "#dataPorExt= pd.get_dummies(dataPor, columns=[\"school\", \"sex\", \"address\", \"famsize\", \"Pstatus\", \"Mjob\", \"Fjob\", \"reason\", \"guardian\"])\n",
        "def encode(df):\n",
        "  if \"Mjob\" in df.columns:\n",
        "    df = pd.get_dummies(df, columns=[ \"Mjob\" ])\n",
        "  if \"Fjob\" in df.columns:\n",
        "    df = pd.get_dummies(df, columns=[ \"Fjob\" ])\n",
        "  if \"reason\" in df.columns:\n",
        "    df = pd.get_dummies(df, columns=[ \"reason\" ])\n",
        "  if \"guardian\" in df.columns:\n",
        "    df = pd.get_dummies(df, columns=[ \"guardian\" ])\n",
        "  return df\n"
      ],
      "execution_count": null,
      "outputs": []
    },
    {
      "cell_type": "markdown",
      "metadata": {
        "id": "05xkgL2g8hls"
      },
      "source": [
        "### 5 Level of grade label encoding"
      ]
    },
    {
      "cell_type": "code",
      "metadata": {
        "colab": {
          "base_uri": "https://localhost:8080/",
          "height": 439
        },
        "id": "0agiZ-9UGw3R",
        "outputId": "9bb150cb-b1e0-4b30-da0e-14910ef15097"
      },
      "source": [
        "def gradesTo5L(x):\n",
        "    if(x<10):\n",
        "        return 0\n",
        "    elif 10 <= x and x < 13:\n",
        "      return 1\n",
        "    elif 13 <= x and x < 16:\n",
        "      return 2\n",
        "    elif 16 <= x and x < 18:\n",
        "      return 3\n",
        "    else:\n",
        "        return 4\n",
        "\n",
        "dataMat5L = df_mat.copy()\n",
        "dataPor5L = df_por.copy()\n",
        "\n",
        "dataMat5L['G3'] = dataMat5L['G3'].map(gradesTo5L)\n",
        "dataMat5L['G2'] = dataMat5L['G2'].map(gradesTo5L)\n",
        "dataMat5L['G1'] = dataMat5L['G1'].map(gradesTo5L)\n",
        "\n",
        "dataPor5L['G3'] = dataPor5L['G3'].map(gradesTo5L)\n",
        "dataPor5L['G2'] = dataPor5L['G2'].map(gradesTo5L)\n",
        "dataPor5L['G1'] = dataPor5L['G1'].map(gradesTo5L)\n",
        "\n",
        "dataPor5L"
      ],
      "execution_count": null,
      "outputs": [
        {
          "output_type": "execute_result",
          "data": {
            "text/html": [
              "<div>\n",
              "<style scoped>\n",
              "    .dataframe tbody tr th:only-of-type {\n",
              "        vertical-align: middle;\n",
              "    }\n",
              "\n",
              "    .dataframe tbody tr th {\n",
              "        vertical-align: top;\n",
              "    }\n",
              "\n",
              "    .dataframe thead th {\n",
              "        text-align: right;\n",
              "    }\n",
              "</style>\n",
              "<table border=\"1\" class=\"dataframe\">\n",
              "  <thead>\n",
              "    <tr style=\"text-align: right;\">\n",
              "      <th></th>\n",
              "      <th>school</th>\n",
              "      <th>sex</th>\n",
              "      <th>age</th>\n",
              "      <th>address</th>\n",
              "      <th>famsize</th>\n",
              "      <th>Pstatus</th>\n",
              "      <th>Medu</th>\n",
              "      <th>Fedu</th>\n",
              "      <th>Mjob</th>\n",
              "      <th>Fjob</th>\n",
              "      <th>reason</th>\n",
              "      <th>guardian</th>\n",
              "      <th>traveltime</th>\n",
              "      <th>studytime</th>\n",
              "      <th>failures</th>\n",
              "      <th>schoolsup</th>\n",
              "      <th>famsup</th>\n",
              "      <th>paid</th>\n",
              "      <th>activities</th>\n",
              "      <th>nursery</th>\n",
              "      <th>higher</th>\n",
              "      <th>internet</th>\n",
              "      <th>romantic</th>\n",
              "      <th>famrel</th>\n",
              "      <th>freetime</th>\n",
              "      <th>goout</th>\n",
              "      <th>Dalc</th>\n",
              "      <th>Walc</th>\n",
              "      <th>health</th>\n",
              "      <th>absences</th>\n",
              "      <th>G1</th>\n",
              "      <th>G2</th>\n",
              "      <th>G3</th>\n",
              "    </tr>\n",
              "  </thead>\n",
              "  <tbody>\n",
              "    <tr>\n",
              "      <th>0</th>\n",
              "      <td>1</td>\n",
              "      <td>1</td>\n",
              "      <td>18</td>\n",
              "      <td>0</td>\n",
              "      <td>1</td>\n",
              "      <td>1</td>\n",
              "      <td>4</td>\n",
              "      <td>4</td>\n",
              "      <td>at_home</td>\n",
              "      <td>teacher</td>\n",
              "      <td>course</td>\n",
              "      <td>mother</td>\n",
              "      <td>2</td>\n",
              "      <td>2</td>\n",
              "      <td>0</td>\n",
              "      <td>1</td>\n",
              "      <td>0</td>\n",
              "      <td>0</td>\n",
              "      <td>0</td>\n",
              "      <td>1</td>\n",
              "      <td>1</td>\n",
              "      <td>0</td>\n",
              "      <td>0</td>\n",
              "      <td>4</td>\n",
              "      <td>3</td>\n",
              "      <td>4</td>\n",
              "      <td>1</td>\n",
              "      <td>1</td>\n",
              "      <td>3</td>\n",
              "      <td>4</td>\n",
              "      <td>0</td>\n",
              "      <td>1</td>\n",
              "      <td>1</td>\n",
              "    </tr>\n",
              "    <tr>\n",
              "      <th>1</th>\n",
              "      <td>1</td>\n",
              "      <td>1</td>\n",
              "      <td>17</td>\n",
              "      <td>0</td>\n",
              "      <td>1</td>\n",
              "      <td>0</td>\n",
              "      <td>1</td>\n",
              "      <td>1</td>\n",
              "      <td>at_home</td>\n",
              "      <td>other</td>\n",
              "      <td>course</td>\n",
              "      <td>father</td>\n",
              "      <td>1</td>\n",
              "      <td>2</td>\n",
              "      <td>0</td>\n",
              "      <td>0</td>\n",
              "      <td>1</td>\n",
              "      <td>0</td>\n",
              "      <td>0</td>\n",
              "      <td>0</td>\n",
              "      <td>1</td>\n",
              "      <td>1</td>\n",
              "      <td>0</td>\n",
              "      <td>5</td>\n",
              "      <td>3</td>\n",
              "      <td>3</td>\n",
              "      <td>1</td>\n",
              "      <td>1</td>\n",
              "      <td>3</td>\n",
              "      <td>2</td>\n",
              "      <td>0</td>\n",
              "      <td>1</td>\n",
              "      <td>1</td>\n",
              "    </tr>\n",
              "    <tr>\n",
              "      <th>2</th>\n",
              "      <td>1</td>\n",
              "      <td>1</td>\n",
              "      <td>15</td>\n",
              "      <td>0</td>\n",
              "      <td>0</td>\n",
              "      <td>0</td>\n",
              "      <td>1</td>\n",
              "      <td>1</td>\n",
              "      <td>at_home</td>\n",
              "      <td>other</td>\n",
              "      <td>other</td>\n",
              "      <td>mother</td>\n",
              "      <td>1</td>\n",
              "      <td>2</td>\n",
              "      <td>0</td>\n",
              "      <td>1</td>\n",
              "      <td>0</td>\n",
              "      <td>0</td>\n",
              "      <td>0</td>\n",
              "      <td>1</td>\n",
              "      <td>1</td>\n",
              "      <td>1</td>\n",
              "      <td>0</td>\n",
              "      <td>4</td>\n",
              "      <td>3</td>\n",
              "      <td>2</td>\n",
              "      <td>2</td>\n",
              "      <td>3</td>\n",
              "      <td>3</td>\n",
              "      <td>6</td>\n",
              "      <td>1</td>\n",
              "      <td>2</td>\n",
              "      <td>1</td>\n",
              "    </tr>\n",
              "    <tr>\n",
              "      <th>3</th>\n",
              "      <td>1</td>\n",
              "      <td>1</td>\n",
              "      <td>15</td>\n",
              "      <td>0</td>\n",
              "      <td>1</td>\n",
              "      <td>0</td>\n",
              "      <td>4</td>\n",
              "      <td>2</td>\n",
              "      <td>health</td>\n",
              "      <td>services</td>\n",
              "      <td>home</td>\n",
              "      <td>mother</td>\n",
              "      <td>1</td>\n",
              "      <td>3</td>\n",
              "      <td>0</td>\n",
              "      <td>0</td>\n",
              "      <td>1</td>\n",
              "      <td>0</td>\n",
              "      <td>1</td>\n",
              "      <td>1</td>\n",
              "      <td>1</td>\n",
              "      <td>1</td>\n",
              "      <td>1</td>\n",
              "      <td>3</td>\n",
              "      <td>2</td>\n",
              "      <td>2</td>\n",
              "      <td>1</td>\n",
              "      <td>1</td>\n",
              "      <td>5</td>\n",
              "      <td>0</td>\n",
              "      <td>2</td>\n",
              "      <td>2</td>\n",
              "      <td>2</td>\n",
              "    </tr>\n",
              "    <tr>\n",
              "      <th>4</th>\n",
              "      <td>1</td>\n",
              "      <td>1</td>\n",
              "      <td>16</td>\n",
              "      <td>0</td>\n",
              "      <td>1</td>\n",
              "      <td>0</td>\n",
              "      <td>3</td>\n",
              "      <td>3</td>\n",
              "      <td>other</td>\n",
              "      <td>other</td>\n",
              "      <td>home</td>\n",
              "      <td>father</td>\n",
              "      <td>1</td>\n",
              "      <td>2</td>\n",
              "      <td>0</td>\n",
              "      <td>0</td>\n",
              "      <td>1</td>\n",
              "      <td>0</td>\n",
              "      <td>0</td>\n",
              "      <td>1</td>\n",
              "      <td>1</td>\n",
              "      <td>0</td>\n",
              "      <td>0</td>\n",
              "      <td>4</td>\n",
              "      <td>3</td>\n",
              "      <td>2</td>\n",
              "      <td>1</td>\n",
              "      <td>2</td>\n",
              "      <td>5</td>\n",
              "      <td>0</td>\n",
              "      <td>1</td>\n",
              "      <td>2</td>\n",
              "      <td>2</td>\n",
              "    </tr>\n",
              "    <tr>\n",
              "      <th>...</th>\n",
              "      <td>...</td>\n",
              "      <td>...</td>\n",
              "      <td>...</td>\n",
              "      <td>...</td>\n",
              "      <td>...</td>\n",
              "      <td>...</td>\n",
              "      <td>...</td>\n",
              "      <td>...</td>\n",
              "      <td>...</td>\n",
              "      <td>...</td>\n",
              "      <td>...</td>\n",
              "      <td>...</td>\n",
              "      <td>...</td>\n",
              "      <td>...</td>\n",
              "      <td>...</td>\n",
              "      <td>...</td>\n",
              "      <td>...</td>\n",
              "      <td>...</td>\n",
              "      <td>...</td>\n",
              "      <td>...</td>\n",
              "      <td>...</td>\n",
              "      <td>...</td>\n",
              "      <td>...</td>\n",
              "      <td>...</td>\n",
              "      <td>...</td>\n",
              "      <td>...</td>\n",
              "      <td>...</td>\n",
              "      <td>...</td>\n",
              "      <td>...</td>\n",
              "      <td>...</td>\n",
              "      <td>...</td>\n",
              "      <td>...</td>\n",
              "      <td>...</td>\n",
              "    </tr>\n",
              "    <tr>\n",
              "      <th>644</th>\n",
              "      <td>0</td>\n",
              "      <td>1</td>\n",
              "      <td>19</td>\n",
              "      <td>1</td>\n",
              "      <td>1</td>\n",
              "      <td>0</td>\n",
              "      <td>2</td>\n",
              "      <td>3</td>\n",
              "      <td>services</td>\n",
              "      <td>other</td>\n",
              "      <td>course</td>\n",
              "      <td>mother</td>\n",
              "      <td>1</td>\n",
              "      <td>3</td>\n",
              "      <td>1</td>\n",
              "      <td>0</td>\n",
              "      <td>0</td>\n",
              "      <td>0</td>\n",
              "      <td>1</td>\n",
              "      <td>0</td>\n",
              "      <td>1</td>\n",
              "      <td>1</td>\n",
              "      <td>0</td>\n",
              "      <td>5</td>\n",
              "      <td>4</td>\n",
              "      <td>2</td>\n",
              "      <td>1</td>\n",
              "      <td>2</td>\n",
              "      <td>5</td>\n",
              "      <td>4</td>\n",
              "      <td>1</td>\n",
              "      <td>1</td>\n",
              "      <td>1</td>\n",
              "    </tr>\n",
              "    <tr>\n",
              "      <th>645</th>\n",
              "      <td>0</td>\n",
              "      <td>1</td>\n",
              "      <td>18</td>\n",
              "      <td>0</td>\n",
              "      <td>0</td>\n",
              "      <td>0</td>\n",
              "      <td>3</td>\n",
              "      <td>1</td>\n",
              "      <td>teacher</td>\n",
              "      <td>services</td>\n",
              "      <td>course</td>\n",
              "      <td>mother</td>\n",
              "      <td>1</td>\n",
              "      <td>2</td>\n",
              "      <td>0</td>\n",
              "      <td>0</td>\n",
              "      <td>1</td>\n",
              "      <td>0</td>\n",
              "      <td>0</td>\n",
              "      <td>1</td>\n",
              "      <td>1</td>\n",
              "      <td>1</td>\n",
              "      <td>0</td>\n",
              "      <td>4</td>\n",
              "      <td>3</td>\n",
              "      <td>4</td>\n",
              "      <td>1</td>\n",
              "      <td>1</td>\n",
              "      <td>1</td>\n",
              "      <td>4</td>\n",
              "      <td>2</td>\n",
              "      <td>2</td>\n",
              "      <td>3</td>\n",
              "    </tr>\n",
              "    <tr>\n",
              "      <th>646</th>\n",
              "      <td>0</td>\n",
              "      <td>1</td>\n",
              "      <td>18</td>\n",
              "      <td>0</td>\n",
              "      <td>1</td>\n",
              "      <td>0</td>\n",
              "      <td>1</td>\n",
              "      <td>1</td>\n",
              "      <td>other</td>\n",
              "      <td>other</td>\n",
              "      <td>course</td>\n",
              "      <td>mother</td>\n",
              "      <td>2</td>\n",
              "      <td>2</td>\n",
              "      <td>0</td>\n",
              "      <td>0</td>\n",
              "      <td>0</td>\n",
              "      <td>0</td>\n",
              "      <td>1</td>\n",
              "      <td>1</td>\n",
              "      <td>1</td>\n",
              "      <td>0</td>\n",
              "      <td>0</td>\n",
              "      <td>1</td>\n",
              "      <td>1</td>\n",
              "      <td>1</td>\n",
              "      <td>1</td>\n",
              "      <td>1</td>\n",
              "      <td>5</td>\n",
              "      <td>6</td>\n",
              "      <td>1</td>\n",
              "      <td>1</td>\n",
              "      <td>0</td>\n",
              "    </tr>\n",
              "    <tr>\n",
              "      <th>647</th>\n",
              "      <td>0</td>\n",
              "      <td>0</td>\n",
              "      <td>17</td>\n",
              "      <td>0</td>\n",
              "      <td>0</td>\n",
              "      <td>0</td>\n",
              "      <td>3</td>\n",
              "      <td>1</td>\n",
              "      <td>services</td>\n",
              "      <td>services</td>\n",
              "      <td>course</td>\n",
              "      <td>mother</td>\n",
              "      <td>2</td>\n",
              "      <td>1</td>\n",
              "      <td>0</td>\n",
              "      <td>0</td>\n",
              "      <td>0</td>\n",
              "      <td>0</td>\n",
              "      <td>0</td>\n",
              "      <td>0</td>\n",
              "      <td>1</td>\n",
              "      <td>1</td>\n",
              "      <td>0</td>\n",
              "      <td>2</td>\n",
              "      <td>4</td>\n",
              "      <td>5</td>\n",
              "      <td>3</td>\n",
              "      <td>4</td>\n",
              "      <td>2</td>\n",
              "      <td>6</td>\n",
              "      <td>1</td>\n",
              "      <td>1</td>\n",
              "      <td>1</td>\n",
              "    </tr>\n",
              "    <tr>\n",
              "      <th>648</th>\n",
              "      <td>0</td>\n",
              "      <td>0</td>\n",
              "      <td>18</td>\n",
              "      <td>1</td>\n",
              "      <td>0</td>\n",
              "      <td>0</td>\n",
              "      <td>3</td>\n",
              "      <td>2</td>\n",
              "      <td>services</td>\n",
              "      <td>other</td>\n",
              "      <td>course</td>\n",
              "      <td>mother</td>\n",
              "      <td>3</td>\n",
              "      <td>1</td>\n",
              "      <td>0</td>\n",
              "      <td>0</td>\n",
              "      <td>0</td>\n",
              "      <td>0</td>\n",
              "      <td>0</td>\n",
              "      <td>0</td>\n",
              "      <td>1</td>\n",
              "      <td>1</td>\n",
              "      <td>0</td>\n",
              "      <td>4</td>\n",
              "      <td>4</td>\n",
              "      <td>1</td>\n",
              "      <td>3</td>\n",
              "      <td>4</td>\n",
              "      <td>5</td>\n",
              "      <td>4</td>\n",
              "      <td>1</td>\n",
              "      <td>1</td>\n",
              "      <td>1</td>\n",
              "    </tr>\n",
              "  </tbody>\n",
              "</table>\n",
              "<p>649 rows × 33 columns</p>\n",
              "</div>"
            ],
            "text/plain": [
              "     school  sex  age  address  famsize  ...  health  absences  G1 G2 G3\n",
              "0         1    1   18        0        1  ...       3         4   0  1  1\n",
              "1         1    1   17        0        1  ...       3         2   0  1  1\n",
              "2         1    1   15        0        0  ...       3         6   1  2  1\n",
              "3         1    1   15        0        1  ...       5         0   2  2  2\n",
              "4         1    1   16        0        1  ...       5         0   1  2  2\n",
              "..      ...  ...  ...      ...      ...  ...     ...       ...  .. .. ..\n",
              "644       0    1   19        1        1  ...       5         4   1  1  1\n",
              "645       0    1   18        0        0  ...       1         4   2  2  3\n",
              "646       0    1   18        0        1  ...       5         6   1  1  0\n",
              "647       0    0   17        0        0  ...       2         6   1  1  1\n",
              "648       0    0   18        1        0  ...       5         4   1  1  1\n",
              "\n",
              "[649 rows x 33 columns]"
            ]
          },
          "metadata": {
            "tags": []
          },
          "execution_count": 13
        }
      ]
    },
    {
      "cell_type": "markdown",
      "metadata": {
        "id": "nXLhnW2z8tGp"
      },
      "source": [
        "### 2 Level of grade encoding"
      ]
    },
    {
      "cell_type": "code",
      "metadata": {
        "id": "ntVsX14F8rV_",
        "colab": {
          "base_uri": "https://localhost:8080/",
          "height": 439
        },
        "outputId": "c720f07e-1f32-460c-91c0-1e39621de8df"
      },
      "source": [
        "def gradesTo2L(x):\n",
        "    if(x<10):\n",
        "        return 0\n",
        "    else:\n",
        "        return 1\n",
        "\n",
        "dataMat5L = df_mat.copy()\n",
        "dataPor5L = df_por.copy()\n",
        "\n",
        "dataMat5L['G3'] = dataMat5L['G3'].map(gradesTo2L)\n",
        "dataMat5L['G2'] = dataMat5L['G2'].map(gradesTo2L)\n",
        "dataMat5L['G1'] = dataMat5L['G1'].map(gradesTo2L)\n",
        "\n",
        "dataPor5L['G3'] = dataPor5L['G3'].map(gradesTo2L)\n",
        "dataPor5L['G2'] = dataPor5L['G2'].map(gradesTo2L)\n",
        "dataPor5L['G1'] = dataPor5L['G1'].map(gradesTo2L)\n",
        "\n",
        "dataPor5L"
      ],
      "execution_count": null,
      "outputs": [
        {
          "output_type": "execute_result",
          "data": {
            "text/html": [
              "<div>\n",
              "<style scoped>\n",
              "    .dataframe tbody tr th:only-of-type {\n",
              "        vertical-align: middle;\n",
              "    }\n",
              "\n",
              "    .dataframe tbody tr th {\n",
              "        vertical-align: top;\n",
              "    }\n",
              "\n",
              "    .dataframe thead th {\n",
              "        text-align: right;\n",
              "    }\n",
              "</style>\n",
              "<table border=\"1\" class=\"dataframe\">\n",
              "  <thead>\n",
              "    <tr style=\"text-align: right;\">\n",
              "      <th></th>\n",
              "      <th>school</th>\n",
              "      <th>sex</th>\n",
              "      <th>age</th>\n",
              "      <th>address</th>\n",
              "      <th>famsize</th>\n",
              "      <th>Pstatus</th>\n",
              "      <th>Medu</th>\n",
              "      <th>Fedu</th>\n",
              "      <th>Mjob</th>\n",
              "      <th>Fjob</th>\n",
              "      <th>reason</th>\n",
              "      <th>guardian</th>\n",
              "      <th>traveltime</th>\n",
              "      <th>studytime</th>\n",
              "      <th>failures</th>\n",
              "      <th>schoolsup</th>\n",
              "      <th>famsup</th>\n",
              "      <th>paid</th>\n",
              "      <th>activities</th>\n",
              "      <th>nursery</th>\n",
              "      <th>higher</th>\n",
              "      <th>internet</th>\n",
              "      <th>romantic</th>\n",
              "      <th>famrel</th>\n",
              "      <th>freetime</th>\n",
              "      <th>goout</th>\n",
              "      <th>Dalc</th>\n",
              "      <th>Walc</th>\n",
              "      <th>health</th>\n",
              "      <th>absences</th>\n",
              "      <th>G1</th>\n",
              "      <th>G2</th>\n",
              "      <th>G3</th>\n",
              "    </tr>\n",
              "  </thead>\n",
              "  <tbody>\n",
              "    <tr>\n",
              "      <th>0</th>\n",
              "      <td>1</td>\n",
              "      <td>1</td>\n",
              "      <td>18</td>\n",
              "      <td>0</td>\n",
              "      <td>1</td>\n",
              "      <td>1</td>\n",
              "      <td>4</td>\n",
              "      <td>4</td>\n",
              "      <td>at_home</td>\n",
              "      <td>teacher</td>\n",
              "      <td>course</td>\n",
              "      <td>mother</td>\n",
              "      <td>2</td>\n",
              "      <td>2</td>\n",
              "      <td>0</td>\n",
              "      <td>1</td>\n",
              "      <td>0</td>\n",
              "      <td>0</td>\n",
              "      <td>0</td>\n",
              "      <td>1</td>\n",
              "      <td>1</td>\n",
              "      <td>0</td>\n",
              "      <td>0</td>\n",
              "      <td>4</td>\n",
              "      <td>3</td>\n",
              "      <td>4</td>\n",
              "      <td>1</td>\n",
              "      <td>1</td>\n",
              "      <td>3</td>\n",
              "      <td>4</td>\n",
              "      <td>0</td>\n",
              "      <td>1</td>\n",
              "      <td>1</td>\n",
              "    </tr>\n",
              "    <tr>\n",
              "      <th>1</th>\n",
              "      <td>1</td>\n",
              "      <td>1</td>\n",
              "      <td>17</td>\n",
              "      <td>0</td>\n",
              "      <td>1</td>\n",
              "      <td>0</td>\n",
              "      <td>1</td>\n",
              "      <td>1</td>\n",
              "      <td>at_home</td>\n",
              "      <td>other</td>\n",
              "      <td>course</td>\n",
              "      <td>father</td>\n",
              "      <td>1</td>\n",
              "      <td>2</td>\n",
              "      <td>0</td>\n",
              "      <td>0</td>\n",
              "      <td>1</td>\n",
              "      <td>0</td>\n",
              "      <td>0</td>\n",
              "      <td>0</td>\n",
              "      <td>1</td>\n",
              "      <td>1</td>\n",
              "      <td>0</td>\n",
              "      <td>5</td>\n",
              "      <td>3</td>\n",
              "      <td>3</td>\n",
              "      <td>1</td>\n",
              "      <td>1</td>\n",
              "      <td>3</td>\n",
              "      <td>2</td>\n",
              "      <td>0</td>\n",
              "      <td>1</td>\n",
              "      <td>1</td>\n",
              "    </tr>\n",
              "    <tr>\n",
              "      <th>2</th>\n",
              "      <td>1</td>\n",
              "      <td>1</td>\n",
              "      <td>15</td>\n",
              "      <td>0</td>\n",
              "      <td>0</td>\n",
              "      <td>0</td>\n",
              "      <td>1</td>\n",
              "      <td>1</td>\n",
              "      <td>at_home</td>\n",
              "      <td>other</td>\n",
              "      <td>other</td>\n",
              "      <td>mother</td>\n",
              "      <td>1</td>\n",
              "      <td>2</td>\n",
              "      <td>0</td>\n",
              "      <td>1</td>\n",
              "      <td>0</td>\n",
              "      <td>0</td>\n",
              "      <td>0</td>\n",
              "      <td>1</td>\n",
              "      <td>1</td>\n",
              "      <td>1</td>\n",
              "      <td>0</td>\n",
              "      <td>4</td>\n",
              "      <td>3</td>\n",
              "      <td>2</td>\n",
              "      <td>2</td>\n",
              "      <td>3</td>\n",
              "      <td>3</td>\n",
              "      <td>6</td>\n",
              "      <td>1</td>\n",
              "      <td>1</td>\n",
              "      <td>1</td>\n",
              "    </tr>\n",
              "    <tr>\n",
              "      <th>3</th>\n",
              "      <td>1</td>\n",
              "      <td>1</td>\n",
              "      <td>15</td>\n",
              "      <td>0</td>\n",
              "      <td>1</td>\n",
              "      <td>0</td>\n",
              "      <td>4</td>\n",
              "      <td>2</td>\n",
              "      <td>health</td>\n",
              "      <td>services</td>\n",
              "      <td>home</td>\n",
              "      <td>mother</td>\n",
              "      <td>1</td>\n",
              "      <td>3</td>\n",
              "      <td>0</td>\n",
              "      <td>0</td>\n",
              "      <td>1</td>\n",
              "      <td>0</td>\n",
              "      <td>1</td>\n",
              "      <td>1</td>\n",
              "      <td>1</td>\n",
              "      <td>1</td>\n",
              "      <td>1</td>\n",
              "      <td>3</td>\n",
              "      <td>2</td>\n",
              "      <td>2</td>\n",
              "      <td>1</td>\n",
              "      <td>1</td>\n",
              "      <td>5</td>\n",
              "      <td>0</td>\n",
              "      <td>1</td>\n",
              "      <td>1</td>\n",
              "      <td>1</td>\n",
              "    </tr>\n",
              "    <tr>\n",
              "      <th>4</th>\n",
              "      <td>1</td>\n",
              "      <td>1</td>\n",
              "      <td>16</td>\n",
              "      <td>0</td>\n",
              "      <td>1</td>\n",
              "      <td>0</td>\n",
              "      <td>3</td>\n",
              "      <td>3</td>\n",
              "      <td>other</td>\n",
              "      <td>other</td>\n",
              "      <td>home</td>\n",
              "      <td>father</td>\n",
              "      <td>1</td>\n",
              "      <td>2</td>\n",
              "      <td>0</td>\n",
              "      <td>0</td>\n",
              "      <td>1</td>\n",
              "      <td>0</td>\n",
              "      <td>0</td>\n",
              "      <td>1</td>\n",
              "      <td>1</td>\n",
              "      <td>0</td>\n",
              "      <td>0</td>\n",
              "      <td>4</td>\n",
              "      <td>3</td>\n",
              "      <td>2</td>\n",
              "      <td>1</td>\n",
              "      <td>2</td>\n",
              "      <td>5</td>\n",
              "      <td>0</td>\n",
              "      <td>1</td>\n",
              "      <td>1</td>\n",
              "      <td>1</td>\n",
              "    </tr>\n",
              "    <tr>\n",
              "      <th>...</th>\n",
              "      <td>...</td>\n",
              "      <td>...</td>\n",
              "      <td>...</td>\n",
              "      <td>...</td>\n",
              "      <td>...</td>\n",
              "      <td>...</td>\n",
              "      <td>...</td>\n",
              "      <td>...</td>\n",
              "      <td>...</td>\n",
              "      <td>...</td>\n",
              "      <td>...</td>\n",
              "      <td>...</td>\n",
              "      <td>...</td>\n",
              "      <td>...</td>\n",
              "      <td>...</td>\n",
              "      <td>...</td>\n",
              "      <td>...</td>\n",
              "      <td>...</td>\n",
              "      <td>...</td>\n",
              "      <td>...</td>\n",
              "      <td>...</td>\n",
              "      <td>...</td>\n",
              "      <td>...</td>\n",
              "      <td>...</td>\n",
              "      <td>...</td>\n",
              "      <td>...</td>\n",
              "      <td>...</td>\n",
              "      <td>...</td>\n",
              "      <td>...</td>\n",
              "      <td>...</td>\n",
              "      <td>...</td>\n",
              "      <td>...</td>\n",
              "      <td>...</td>\n",
              "    </tr>\n",
              "    <tr>\n",
              "      <th>644</th>\n",
              "      <td>0</td>\n",
              "      <td>1</td>\n",
              "      <td>19</td>\n",
              "      <td>1</td>\n",
              "      <td>1</td>\n",
              "      <td>0</td>\n",
              "      <td>2</td>\n",
              "      <td>3</td>\n",
              "      <td>services</td>\n",
              "      <td>other</td>\n",
              "      <td>course</td>\n",
              "      <td>mother</td>\n",
              "      <td>1</td>\n",
              "      <td>3</td>\n",
              "      <td>1</td>\n",
              "      <td>0</td>\n",
              "      <td>0</td>\n",
              "      <td>0</td>\n",
              "      <td>1</td>\n",
              "      <td>0</td>\n",
              "      <td>1</td>\n",
              "      <td>1</td>\n",
              "      <td>0</td>\n",
              "      <td>5</td>\n",
              "      <td>4</td>\n",
              "      <td>2</td>\n",
              "      <td>1</td>\n",
              "      <td>2</td>\n",
              "      <td>5</td>\n",
              "      <td>4</td>\n",
              "      <td>1</td>\n",
              "      <td>1</td>\n",
              "      <td>1</td>\n",
              "    </tr>\n",
              "    <tr>\n",
              "      <th>645</th>\n",
              "      <td>0</td>\n",
              "      <td>1</td>\n",
              "      <td>18</td>\n",
              "      <td>0</td>\n",
              "      <td>0</td>\n",
              "      <td>0</td>\n",
              "      <td>3</td>\n",
              "      <td>1</td>\n",
              "      <td>teacher</td>\n",
              "      <td>services</td>\n",
              "      <td>course</td>\n",
              "      <td>mother</td>\n",
              "      <td>1</td>\n",
              "      <td>2</td>\n",
              "      <td>0</td>\n",
              "      <td>0</td>\n",
              "      <td>1</td>\n",
              "      <td>0</td>\n",
              "      <td>0</td>\n",
              "      <td>1</td>\n",
              "      <td>1</td>\n",
              "      <td>1</td>\n",
              "      <td>0</td>\n",
              "      <td>4</td>\n",
              "      <td>3</td>\n",
              "      <td>4</td>\n",
              "      <td>1</td>\n",
              "      <td>1</td>\n",
              "      <td>1</td>\n",
              "      <td>4</td>\n",
              "      <td>1</td>\n",
              "      <td>1</td>\n",
              "      <td>1</td>\n",
              "    </tr>\n",
              "    <tr>\n",
              "      <th>646</th>\n",
              "      <td>0</td>\n",
              "      <td>1</td>\n",
              "      <td>18</td>\n",
              "      <td>0</td>\n",
              "      <td>1</td>\n",
              "      <td>0</td>\n",
              "      <td>1</td>\n",
              "      <td>1</td>\n",
              "      <td>other</td>\n",
              "      <td>other</td>\n",
              "      <td>course</td>\n",
              "      <td>mother</td>\n",
              "      <td>2</td>\n",
              "      <td>2</td>\n",
              "      <td>0</td>\n",
              "      <td>0</td>\n",
              "      <td>0</td>\n",
              "      <td>0</td>\n",
              "      <td>1</td>\n",
              "      <td>1</td>\n",
              "      <td>1</td>\n",
              "      <td>0</td>\n",
              "      <td>0</td>\n",
              "      <td>1</td>\n",
              "      <td>1</td>\n",
              "      <td>1</td>\n",
              "      <td>1</td>\n",
              "      <td>1</td>\n",
              "      <td>5</td>\n",
              "      <td>6</td>\n",
              "      <td>1</td>\n",
              "      <td>1</td>\n",
              "      <td>0</td>\n",
              "    </tr>\n",
              "    <tr>\n",
              "      <th>647</th>\n",
              "      <td>0</td>\n",
              "      <td>0</td>\n",
              "      <td>17</td>\n",
              "      <td>0</td>\n",
              "      <td>0</td>\n",
              "      <td>0</td>\n",
              "      <td>3</td>\n",
              "      <td>1</td>\n",
              "      <td>services</td>\n",
              "      <td>services</td>\n",
              "      <td>course</td>\n",
              "      <td>mother</td>\n",
              "      <td>2</td>\n",
              "      <td>1</td>\n",
              "      <td>0</td>\n",
              "      <td>0</td>\n",
              "      <td>0</td>\n",
              "      <td>0</td>\n",
              "      <td>0</td>\n",
              "      <td>0</td>\n",
              "      <td>1</td>\n",
              "      <td>1</td>\n",
              "      <td>0</td>\n",
              "      <td>2</td>\n",
              "      <td>4</td>\n",
              "      <td>5</td>\n",
              "      <td>3</td>\n",
              "      <td>4</td>\n",
              "      <td>2</td>\n",
              "      <td>6</td>\n",
              "      <td>1</td>\n",
              "      <td>1</td>\n",
              "      <td>1</td>\n",
              "    </tr>\n",
              "    <tr>\n",
              "      <th>648</th>\n",
              "      <td>0</td>\n",
              "      <td>0</td>\n",
              "      <td>18</td>\n",
              "      <td>1</td>\n",
              "      <td>0</td>\n",
              "      <td>0</td>\n",
              "      <td>3</td>\n",
              "      <td>2</td>\n",
              "      <td>services</td>\n",
              "      <td>other</td>\n",
              "      <td>course</td>\n",
              "      <td>mother</td>\n",
              "      <td>3</td>\n",
              "      <td>1</td>\n",
              "      <td>0</td>\n",
              "      <td>0</td>\n",
              "      <td>0</td>\n",
              "      <td>0</td>\n",
              "      <td>0</td>\n",
              "      <td>0</td>\n",
              "      <td>1</td>\n",
              "      <td>1</td>\n",
              "      <td>0</td>\n",
              "      <td>4</td>\n",
              "      <td>4</td>\n",
              "      <td>1</td>\n",
              "      <td>3</td>\n",
              "      <td>4</td>\n",
              "      <td>5</td>\n",
              "      <td>4</td>\n",
              "      <td>1</td>\n",
              "      <td>1</td>\n",
              "      <td>1</td>\n",
              "    </tr>\n",
              "  </tbody>\n",
              "</table>\n",
              "<p>649 rows × 33 columns</p>\n",
              "</div>"
            ],
            "text/plain": [
              "     school  sex  age  address  famsize  ...  health  absences  G1 G2 G3\n",
              "0         1    1   18        0        1  ...       3         4   0  1  1\n",
              "1         1    1   17        0        1  ...       3         2   0  1  1\n",
              "2         1    1   15        0        0  ...       3         6   1  1  1\n",
              "3         1    1   15        0        1  ...       5         0   1  1  1\n",
              "4         1    1   16        0        1  ...       5         0   1  1  1\n",
              "..      ...  ...  ...      ...      ...  ...     ...       ...  .. .. ..\n",
              "644       0    1   19        1        1  ...       5         4   1  1  1\n",
              "645       0    1   18        0        0  ...       1         4   1  1  1\n",
              "646       0    1   18        0        1  ...       5         6   1  1  0\n",
              "647       0    0   17        0        0  ...       2         6   1  1  1\n",
              "648       0    0   18        1        0  ...       5         4   1  1  1\n",
              "\n",
              "[649 rows x 33 columns]"
            ]
          },
          "metadata": {
            "tags": []
          },
          "execution_count": 14
        }
      ]
    },
    {
      "cell_type": "code",
      "metadata": {
        "colab": {
          "base_uri": "https://localhost:8080/"
        },
        "id": "ouHbO7Mo-IQg",
        "outputId": "1d17a16e-2a0e-4606-f032-70e7be398692"
      },
      "source": [
        "copy_data = dataPor5L.copy()\n",
        "Y_label = dataPor5L[\"G3\"]\n",
        "Y_label"
      ],
      "execution_count": null,
      "outputs": [
        {
          "output_type": "execute_result",
          "data": {
            "text/plain": [
              "0      1\n",
              "1      1\n",
              "2      1\n",
              "3      1\n",
              "4      1\n",
              "      ..\n",
              "644    1\n",
              "645    1\n",
              "646    0\n",
              "647    1\n",
              "648    1\n",
              "Name: G3, Length: 649, dtype: int64"
            ]
          },
          "metadata": {
            "tags": []
          },
          "execution_count": 15
        }
      ]
    },
    {
      "cell_type": "code",
      "metadata": {
        "id": "hTD39skaHLJV"
      },
      "source": [
        "copy_data.drop(\"G3\",axis='columns', inplace=True)\n",
        "X_label = copy_data"
      ],
      "execution_count": null,
      "outputs": []
    },
    {
      "cell_type": "markdown",
      "metadata": {
        "id": "7_CWHsbNHAL9"
      },
      "source": [
        "## 2. Algorithms"
      ]
    },
    {
      "cell_type": "markdown",
      "metadata": {
        "id": "_197dAffXJn9"
      },
      "source": [
        "### 2.1 Decision Tree Classifier"
      ]
    },
    {
      "cell_type": "code",
      "metadata": {
        "id": "au6aFds5_8A9"
      },
      "source": [
        "def DecisionTreeClassifier_Model(X_train, Y_train, X_test, Y_test):\n",
        "\n",
        "    # Create a Decision Tree Classification Model and fit it on the training data\n",
        "    dec_tree_clf = DecisionTreeClassifier().fit(X_train, Y_train)\n",
        "    Y_pred = dec_tree_clf.predict(X_test)\n",
        "    acc_score = accuracy_score(Y_test, Y_pred)\n",
        "    return acc_score\n",
        "\n",
        "#DecisionTreeClassifier_Model(encode(X_train_1),Y_train_1,encode(X_test_1), Y_test_1)"
      ],
      "execution_count": null,
      "outputs": []
    },
    {
      "cell_type": "markdown",
      "metadata": {
        "id": "XCjUkDZfXNoZ"
      },
      "source": [
        "### 2.2 Bernoulli Naive Bayes Classifier"
      ]
    },
    {
      "cell_type": "code",
      "metadata": {
        "id": "QDOKuU4bClLH"
      },
      "source": [
        "def BernoulliNB_Model(X_train, Y_train, X_test, Y_test):\n",
        "\n",
        "    # Create a Bernoulli Naive Bayes Classification Model and fit it on the training data\n",
        "    bernoulli_clf = BernoulliNB().fit(X_train, Y_train)\n",
        "    Y_pred = bernoulli_clf.predict(X_test)\n",
        "    acc_score = accuracy_score(Y_test, Y_pred)\n",
        "    return acc_score\n",
        "   \n",
        "# BernoulliNB_Model(encode(X_train_1),Y_train_1,encode(X_test_1), Y_test_1)"
      ],
      "execution_count": null,
      "outputs": []
    },
    {
      "cell_type": "markdown",
      "metadata": {
        "id": "L1wuPUOQXSy_"
      },
      "source": [
        "### 2.3 K Nearest Neighbor Classifier"
      ]
    },
    {
      "cell_type": "code",
      "metadata": {
        "id": "ZtsITJqMR-1K"
      },
      "source": [
        "def KNearestNeighborsClassifier_Model(X_train, Y_train, X_test, Y_test):\n",
        "\n",
        "    # Create a K - Nearest Neighbor Classification Model and fit it on the training data\n",
        "    k_neighbor_clf = KNeighborsClassifier().fit(X_train, Y_train) \n",
        "    Y_pred = k_neighbor_clf.predict(X_test)\n",
        "    #print(\"F1_score: \",f1_score(Y_test, Y_pred, average=None))\n",
        "    acc_score = accuracy_score(Y_test, Y_pred)\n",
        "    return acc_score\n",
        "\n",
        "# KNearestNeighborsClassifier_Model(encode(X_train_1),Y_train_1, encode(X_test_1), Y_test_1)"
      ],
      "execution_count": null,
      "outputs": []
    },
    {
      "cell_type": "markdown",
      "metadata": {
        "id": "5crx74xDZXOW"
      },
      "source": [
        "### 2.4 Light GBM Classifier"
      ]
    },
    {
      "cell_type": "code",
      "metadata": {
        "id": "0V07cJ75YwwQ"
      },
      "source": [
        "def LightGBM_Model(X_train, Y_train, X_test, Y_test):\n",
        "\n",
        "    # Create a Decision Tree Classification Model and fit it on the training data\n",
        "    lgbm_clf = LGBMClassifier().fit(X_train, Y_train)\n",
        "    Y_pred = lgbm_clf.predict(X_test)\n",
        "    acc_score = accuracy_score(Y_test, Y_pred)\n",
        "    return acc_score\n",
        "\n",
        "# LightGBM_Model(encode(X_train_1),Y_train_1, encode(X_test_1), Y_test_1)"
      ],
      "execution_count": null,
      "outputs": []
    },
    {
      "cell_type": "markdown",
      "metadata": {
        "id": "_BwlA13Rg0gn"
      },
      "source": [
        "### 2.5 Random Forest Classifier"
      ]
    },
    {
      "cell_type": "code",
      "metadata": {
        "id": "g3rUGEo5Ywtl"
      },
      "source": [
        "def RandomForestClassifier_Model(X_train, Y_train, X_test, Y_test):\n",
        "\n",
        "    RandomForest_clf = RandomForestClassifier().fit(X_train, Y_train)\n",
        "    Y_pred = RandomForest_clf.predict(X_test)\n",
        "    acc_score = accuracy_score(Y_test, Y_pred)\n",
        "    return acc_score\n",
        "   \n",
        "# GaussianNB_Model(encode(X_train_1),Y_train_1,encode(X_test_1), Y_test_1)"
      ],
      "execution_count": null,
      "outputs": []
    },
    {
      "cell_type": "markdown",
      "metadata": {
        "id": "cGdWuDD7oJcP"
      },
      "source": [
        "### 2.6 Gaussian Naive Bayes Classifier"
      ]
    },
    {
      "cell_type": "code",
      "metadata": {
        "id": "WW4e6tk6YwqU"
      },
      "source": [
        "def GaussianNB_Model(X_train, Y_train, X_test, Y_test):\n",
        "\n",
        "    # Create a Gaussian Naive Bayes Classification Model and fit it on the training data\n",
        "    Gaussian_clf = GaussianNB().fit(X_train, Y_train)\n",
        "    Y_pred = Gaussian_clf.predict(X_test)\n",
        "    acc_score = accuracy_score(Y_test, Y_pred)\n",
        "    return acc_score"
      ],
      "execution_count": null,
      "outputs": []
    },
    {
      "cell_type": "markdown",
      "metadata": {
        "id": "LOGK8LFUg652"
      },
      "source": [
        "### 2.7 Linear Support Vector Classifier"
      ]
    },
    {
      "cell_type": "code",
      "metadata": {
        "id": "wrUVIvXzhCXC"
      },
      "source": [
        "def LinearSVC_Model(X_train, Y_train, X_test, Y_test):\n",
        "\n",
        "    LinearSVC_clf = LinearSVC(max_iter=100000).fit(X_train, Y_train)\n",
        "    Y_pred = LinearSVC_clf.predict(X_test)\n",
        "    acc_score = accuracy_score(Y_test, Y_pred)\n",
        "    return acc_score\n",
        "\n",
        "# LinearSVC_Model(encode(X_train_1),Y_train_1, encode(X_test_1), Y_test_1)"
      ],
      "execution_count": null,
      "outputs": []
    },
    {
      "cell_type": "markdown",
      "metadata": {
        "id": "Ium5ntUPXYiN"
      },
      "source": [
        "### 2.11 Genetic Algorithm"
      ]
    },
    {
      "cell_type": "code",
      "metadata": {
        "id": "XiAZUfWuHNTw"
      },
      "source": [
        "#defining various steps required for the genetic algorithm\n",
        "def initilization_of_population(size,n_feat):\n",
        "    population = []\n",
        "    for i in range(size):\n",
        "        chromosome = np.ones(n_feat,dtype=np.bool)\n",
        "        chromosome[:int(0.3*n_feat)]=False\n",
        "        np.random.shuffle(chromosome)\n",
        "        population.append(chromosome)\n",
        "    return population\n",
        "\n",
        "def fitness_score(population, X_train, Y_train, X_test, Y_test, ML_Model):\n",
        "    global parameters_list\n",
        "    scores = []\n",
        "    for chromosome in population:\n",
        "        X_train_2 = encode(X_train.iloc[:,chromosome])\n",
        "        X_test_2 = encode(X_test.iloc[:,chromosome])\n",
        "        parameters_list = list(X_train_2.columns)\n",
        "        scores.append(ML_Model(X_train_2, Y_train, X_test_2, Y_test))\n",
        "    scores, population = np.array(scores), np.array(population) \n",
        "    inds = np.argsort(scores)\n",
        "    return list(scores[inds][::-1]), list(population[inds,:][::-1])\n",
        "\n",
        "def selection(pop_after_fit,n_parents):\n",
        "    population_nextgen = [] \n",
        "    for i in range(n_parents):\n",
        "        population_nextgen.append(pop_after_fit[i])\n",
        "    return population_nextgen\n",
        "\n",
        "def crossover(pop_after_sel):\n",
        "    population_nextgen=pop_after_sel\n",
        "    for i in range(len(pop_after_sel)):\n",
        "        child=pop_after_sel[i]\n",
        "        child[3:7]=pop_after_sel[(i+1)%len(pop_after_sel)][3:7]\n",
        "        population_nextgen.append(child)\n",
        "    return population_nextgen\n",
        "\n",
        "def mutation(pop_after_cross,mutation_rate):\n",
        "    population_nextgen = []\n",
        "    for i in range(0,len(pop_after_cross)):\n",
        "        chromosome = pop_after_cross[i]\n",
        "        for j in range(len(chromosome)):\n",
        "            if random.random() < mutation_rate:\n",
        "                chromosome[j]= not chromosome[j]\n",
        "        population_nextgen.append(chromosome)\n",
        "    #print(population_nextgen)\n",
        "    return population_nextgen\n",
        "\n",
        "def generations(size,n_feat,n_parents,mutation_rate,n_gen,X_train,\n",
        "                                   X_test, y_train, y_test, ML_Model):\n",
        "    best_chromo= []\n",
        "    best_score= []\n",
        "    population_nextgen=initilization_of_population(size,n_feat)\n",
        "    #print(population_nextgen)\n",
        "    for i in range(n_gen):\n",
        "        scores, pop_after_fit = fitness_score(population_nextgen, X_train, y_train, X_test, y_test, ML_Model)\n",
        "        #print(scores[0])\n",
        "        pop_after_sel = selection(pop_after_fit,n_parents)\n",
        "        pop_after_cross = crossover(pop_after_sel)\n",
        "        population_nextgen = mutation(pop_after_cross,mutation_rate)\n",
        "        best_chromo.append(pop_after_fit[0])\n",
        "        best_score.append(scores[0])\n",
        "    return best_chromo,best_score\n",
        "\n",
        "def GeneticAlgorithm(size,n_feat,n_parents,mutation_rate,n_gen,X_train,\n",
        "                                   X_test, y_train, y_test, ML_Model=BernoulliNB_Model):\n",
        "    best_parameters, best_scores = generations(size,n_feat,n_parents,mutation_rate,n_gen,X_train, X_test, y_train, y_test, ML_Model)\n",
        "    # Print the parameters\n",
        "    global parameters_list\n",
        "    top_chromosome = best_parameters[0]\n",
        "    print(\"The choosen chromosome in raw format :\")\n",
        "    print(top_chromosome)\n",
        "    choosen_parameters = [parameters_list[i] for i in range(len(parameters_list)) if top_chromosome[i]]\n",
        "    print(\"The choosen set of parameters after feature selection :\")\n",
        "    for i in range(len(choosen_parameters)) :\n",
        "        print(choosen_parameters[i])\n",
        "    \n",
        "    # Returns the best accuracy score\n",
        "    return max(best_scores)"
      ],
      "execution_count": null,
      "outputs": []
    },
    {
      "cell_type": "code",
      "metadata": {
        "colab": {
          "base_uri": "https://localhost:8080/"
        },
        "id": "JdewUmCBbEnU",
        "outputId": "ee8271e3-983e-45e9-9589-7641ca2d81b9"
      },
      "source": [
        "parameters_list = []\n",
        "\n",
        "GeneticAlgorithm(\n",
        "    size=20, n_feat=len(X_train_1.columns), n_parents=10, mutation_rate=0.10, n_gen=38, \n",
        "    X_train=X_train_1, X_test=X_test_1, y_train=Y_train_1, y_test=Y_test_1, ML_Model=BernoulliNB_Model\n",
        ")"
      ],
      "execution_count": null,
      "outputs": [
        {
          "output_type": "stream",
          "text": [
            "The choosen chromosome in raw format :\n",
            "[ True False  True  True  True  True False  True  True  True  True  True\n",
            " False  True  True False  True  True  True  True False  True False  True\n",
            " False  True False False  True False  True  True]\n",
            "The choosen set of parameters after feature selection :\n",
            "school\n",
            "age\n",
            "address\n",
            "famsize\n",
            "Pstatus\n",
            "schoolsup\n",
            "activities\n",
            "nursery\n",
            "internet\n",
            "freetime\n",
            "Dalc\n",
            "Walc\n",
            "G2\n",
            "Mjob_at_home\n",
            "Mjob_health\n",
            "Mjob_other\n",
            "Mjob_teacher\n",
            "Fjob_health\n",
            "Fjob_services\n",
            "guardian_mother\n"
          ],
          "name": "stdout"
        },
        {
          "output_type": "execute_result",
          "data": {
            "text/plain": [
              "1.0"
            ]
          },
          "metadata": {
            "tags": []
          },
          "execution_count": 36
        }
      ]
    },
    {
      "cell_type": "markdown",
      "metadata": {
        "id": "4XglJ_W5ZdzN"
      },
      "source": [
        "### 2.12 Results Analysis"
      ]
    },
    {
      "cell_type": "code",
      "metadata": {
        "id": "P2LWykFTZdTC"
      },
      "source": [
        "class MLResultsAnalysis :\n",
        "\n",
        "    def __init__(self) :\n",
        "        \"\"\"\n",
        "        Initializes a dictoonary to store the results of all algorithms for a particular scenario\n",
        "        \"\"\"\n",
        "\n",
        "        # Initialize a variable to store the overall results\n",
        "        self.results = {}\n",
        "\n",
        "\n",
        "    def addResult(self, algo_name, accuracy_score_value) :\n",
        "        \"\"\"\n",
        "        Given the prediction values of an algorithm, calculates and stores the metric scores of the prediction made.\n",
        "\n",
        "        Parameters\n",
        "        ----------\n",
        "        algo_name - Name of the ML Algorithm which has invoked this function\n",
        "        accuracy_score_value - The value of accuracy obtained by the algorithm\n",
        "        \"\"\"\n",
        "\n",
        "        # Store the accuracy score of this algorithm into the class variable\n",
        "        self.results[algo_name] = accuracy_score_value\n",
        "    \n",
        "\n",
        "    def plotScores(self) :\n",
        "        \"\"\"\n",
        "        After calculating the scores of all the algorithms, plots the scores in a graph.\n",
        "        \"\"\"\n",
        "\n",
        "        # Initialize an empty array to stores the accuracy scores of all algorithms\n",
        "        scores = []\n",
        "\n",
        "        # Initialize an array to store the names of all the algorithms used\n",
        "        algorithms_available = []\n",
        "\n",
        "        # Fill the algorithms and scores data structure\n",
        "        for key, value in self.results.items() :\n",
        "            algorithms_available.append(key)\n",
        "            scores.append(value)\n",
        "\n",
        "        # Plot the accuracy scores\n",
        "        plt.plot(algorithms_available, scores)\n",
        "\n",
        "        # Set the labels and titles\n",
        "        plt.xlabel(\"ML Algorithms\")\n",
        "        plt.ylabel(\"accuracy score\")\n",
        "        plt.title(\"Results\")\n",
        "    \n",
        "\n",
        "    def displayResults(self) :\n",
        "        \"\"\"\n",
        "        After the calculations, this function prints the results of all the algorithms and their metrics.\n",
        "        \"\"\"\n",
        "\n",
        "        # Print the results for each algorithm\n",
        "        for key, value in self.results.items() :\n",
        "            #name = \" \".join([word.capitalize() for word in key.split(\"_\")]) + \" Classifier\"\n",
        "            name = key + \" Classifier\"\n",
        "            print(name)\n",
        "            print(\"--------------------------------\")\n",
        "            print(f\"Accuracy : {value}\")\n",
        "            print(\"---------------------------------------------------------------------------------------------\\n\\n\")"
      ],
      "execution_count": null,
      "outputs": []
    },
    {
      "cell_type": "code",
      "metadata": {
        "id": "SqAlJSyIZdP7"
      },
      "source": [
        ""
      ],
      "execution_count": null,
      "outputs": []
    },
    {
      "cell_type": "markdown",
      "metadata": {
        "id": "EWUIC3YCXr8M"
      },
      "source": [
        "## 3. Training and Validation"
      ]
    },
    {
      "cell_type": "markdown",
      "metadata": {
        "id": "bG3qVN1-o-J2"
      },
      "source": [
        "### 3.1 Training Utility Function"
      ]
    },
    {
      "cell_type": "code",
      "metadata": {
        "id": "6WWM03-jpEIH"
      },
      "source": [
        "# The various options available to us\n",
        "# Each model will be trained and validated on its own and as well as with genetic algorithm\n",
        "\n",
        "options = {\n",
        "    \"Decision Tree\" : DecisionTreeClassifier_Model,\n",
        "    \"Bernoulli NB\" : BernoulliNB_Model,\n",
        "    \"Gaussian NB\" : GaussianNB_Model,\n",
        "    \"K Nearest Neighbor\" : KNearestNeighborsClassifier_Model,\n",
        "    \"Light GBM\" : LightGBM_Model,\n",
        "    \"Random Forest\" : RandomForestClassifier_Model,\n",
        "    \"Linear SVC\" : LinearSVC_Model\n",
        "}"
      ],
      "execution_count": null,
      "outputs": []
    },
    {
      "cell_type": "code",
      "metadata": {
        "id": "paF1QZulp02T"
      },
      "source": [
        "def trainAndValidateModels(results_obj, options, dataset) :\n",
        "\n",
        "    (X_train, X_test, Y_train, Y_test) = dataset\n",
        "\n",
        "    for name, model in options.items() :\n",
        "        results_obj.addResult(name, model(encode(X_train),Y_train,encode(X_test), Y_test))\n",
        "        results_obj.addResult(\n",
        "            (name + \" with Genetics\"),\n",
        "            GeneticAlgorithm(\n",
        "                size=20, n_feat=len(X_train.columns), n_parents=10, mutation_rate=0.10, n_gen=38, \n",
        "                X_train=X_train, X_test=X_test, y_train=Y_train, y_test=Y_test, ML_Model=model\n",
        "            )\n",
        "        )"
      ],
      "execution_count": null,
      "outputs": []
    },
    {
      "cell_type": "markdown",
      "metadata": {
        "id": "zDes79-1o0JN"
      },
      "source": [
        "### 3.2 Using General Train-Test Split"
      ]
    },
    {
      "cell_type": "code",
      "metadata": {
        "id": "3EUn8WoFr4eI"
      },
      "source": [
        "# Perform a test train split with 10% as test set\n",
        "\n",
        "X_train_1, X_test_1, Y_train_1, Y_test_1 = train_test_split(\n",
        "    X_label,\n",
        "    Y_label, \n",
        "    test_size = 0.1,\n",
        "    random_state=42\n",
        ")"
      ],
      "execution_count": null,
      "outputs": []
    },
    {
      "cell_type": "markdown",
      "metadata": {
        "id": "TYqmxnNLiXvC"
      },
      "source": [
        "### Classification for 5-Level without K-Fold verification"
      ]
    },
    {
      "cell_type": "code",
      "metadata": {
        "colab": {
          "base_uri": "https://localhost:8080/"
        },
        "id": "LNXkmzufiDes",
        "outputId": "817677e2-a8a3-4a5d-a630-0fe699f9bd63"
      },
      "source": [
        "# Perform the analysis\n",
        "\n",
        "dataset = (X_train_1, X_test_1, Y_train_1, Y_test_1)\n",
        "test_train_split_results = MLResultsAnalysis()\n",
        "trainAndValidateModels(test_train_split_results, options, dataset)\n",
        "test_train_split_results.displayResults()"
      ],
      "execution_count": null,
      "outputs": [
        {
          "output_type": "stream",
          "text": [
            "Decision Tree Classifier\n",
            "--------------------------------\n",
            "Accuracy : 0.6153846153846154\n",
            "---------------------------------------------------------------------------------------------\n",
            "\n",
            "\n",
            "Decision Tree with Genetics Classifier\n",
            "--------------------------------\n",
            "Accuracy : 0.7846153846153846\n",
            "---------------------------------------------------------------------------------------------\n",
            "\n",
            "\n",
            "Bernoulli NB Classifier\n",
            "--------------------------------\n",
            "Accuracy : 0.46153846153846156\n",
            "---------------------------------------------------------------------------------------------\n",
            "\n",
            "\n",
            "Bernoulli NB with Genetics Classifier\n",
            "--------------------------------\n",
            "Accuracy : 0.6307692307692307\n",
            "---------------------------------------------------------------------------------------------\n",
            "\n",
            "\n",
            "Gaussian NB Classifier\n",
            "--------------------------------\n",
            "Accuracy : 0.3230769230769231\n",
            "---------------------------------------------------------------------------------------------\n",
            "\n",
            "\n",
            "Gaussian NB with Genetics Classifier\n",
            "--------------------------------\n",
            "Accuracy : 0.7538461538461538\n",
            "---------------------------------------------------------------------------------------------\n",
            "\n",
            "\n",
            "K Nearest Neighbor Classifier\n",
            "--------------------------------\n",
            "Accuracy : 0.4461538461538462\n",
            "---------------------------------------------------------------------------------------------\n",
            "\n",
            "\n",
            "K Nearest Neighbor with Genetics Classifier\n",
            "--------------------------------\n",
            "Accuracy : 0.6923076923076923\n",
            "---------------------------------------------------------------------------------------------\n",
            "\n",
            "\n",
            "Light GBM Classifier\n",
            "--------------------------------\n",
            "Accuracy : 0.676923076923077\n",
            "---------------------------------------------------------------------------------------------\n",
            "\n",
            "\n",
            "Light GBM with Genetics Classifier\n",
            "--------------------------------\n",
            "Accuracy : 0.8\n",
            "---------------------------------------------------------------------------------------------\n",
            "\n",
            "\n",
            "Random Forest Classifier\n",
            "--------------------------------\n",
            "Accuracy : 0.6923076923076923\n",
            "---------------------------------------------------------------------------------------------\n",
            "\n",
            "\n",
            "Random Forest with Genetics Classifier\n",
            "--------------------------------\n",
            "Accuracy : 0.7846153846153846\n",
            "---------------------------------------------------------------------------------------------\n",
            "\n",
            "\n",
            "Linear SVC Classifier\n",
            "--------------------------------\n",
            "Accuracy : 0.5384615384615384\n",
            "---------------------------------------------------------------------------------------------\n",
            "\n",
            "\n",
            "Linear SVC with Genetics Classifier\n",
            "--------------------------------\n",
            "Accuracy : 0.7538461538461538\n",
            "---------------------------------------------------------------------------------------------\n",
            "\n",
            "\n"
          ],
          "name": "stdout"
        }
      ]
    },
    {
      "cell_type": "code",
      "metadata": {
        "colab": {
          "base_uri": "https://localhost:8080/",
          "height": 476
        },
        "id": "ARy_6wPVwBzZ",
        "outputId": "1df91ab7-0805-4de3-88b6-95ec855b8884"
      },
      "source": [
        "# Set the size of plot\n",
        "plt.rcParams[\"figure.figsize\"] = (30,10)\n",
        "\n",
        "# Plot the scores obtained by these algorithms\n",
        "test_train_split_results.plotScores()"
      ],
      "execution_count": null,
      "outputs": [
        {
          "output_type": "display_data",
          "data": {
            "image/png": "[encoded data removed]",
            "text/plain": [
              "<Figure size 2160x720 with 1 Axes>"
            ]
          },
          "metadata": {
            "tags": []
          }
        }
      ]
    },
    {
      "cell_type": "markdown",
      "metadata": {
        "id": "GVojlFnruq2w"
      },
      "source": [
        "### 3.3 Using K- Fold Cross Validation"
      ]
    },
    {
      "cell_type": "code",
      "metadata": {
        "id": "EOrNhk5lGTtX"
      },
      "source": [
        "# Initialize the cross validator\n",
        "\n",
        "kf = KFold(n_splits = 10, shuffle = True, random_state = 2)\n",
        "split_indices = next(kf.split(X_label))\n",
        "\n",
        "X_train_2 = X_label.iloc[split_indices[0]]\n",
        "Y_train_2 = Y_label.iloc[split_indices[0]]\n",
        "X_test_2 = X_label.iloc[split_indices[1]]\n",
        "Y_test_2 = Y_label.iloc[split_indices[1]]"
      ],
      "execution_count": null,
      "outputs": []
    },
    {
      "cell_type": "markdown",
      "metadata": {
        "id": "saStRtRFiBTN"
      },
      "source": [
        "### Classification for 2-Level with using K-fold Validation"
      ]
    },
    {
      "cell_type": "code",
      "metadata": {
        "colab": {
          "background_save": true
        },
        "id": "1jeYRN1-wzla",
        "outputId": "fe641e64-4e50-42d4-98b2-68cf648ed2e2"
      },
      "source": [
        "# Perform the analysis\n",
        "\n",
        "dataset = (X_train_2, X_test_2, Y_train_2, Y_test_2)\n",
        "k_fold_split_results = MLResultsAnalysis()\n",
        "trainAndValidateModels(k_fold_split_results, options, dataset)\n",
        "k_fold_split_results.displayResults()"
      ],
      "execution_count": null,
      "outputs": [
        {
          "output_type": "stream",
          "text": [
            "Decision Tree Classifier\n",
            "--------------------------------\n",
            "Accuracy : 0.9076923076923077\n",
            "---------------------------------------------------------------------------------------------\n",
            "\n",
            "\n",
            "Decision Tree with Genetics Classifier\n",
            "--------------------------------\n",
            "Accuracy : 0.9846153846153847\n",
            "---------------------------------------------------------------------------------------------\n",
            "\n",
            "\n",
            "Bernoulli NB Classifier\n",
            "--------------------------------\n",
            "Accuracy : 0.8923076923076924\n",
            "---------------------------------------------------------------------------------------------\n",
            "\n",
            "\n",
            "Bernoulli NB with Genetics Classifier\n",
            "--------------------------------\n",
            "Accuracy : 0.9538461538461539\n",
            "---------------------------------------------------------------------------------------------\n",
            "\n",
            "\n",
            "Gaussian NB Classifier\n",
            "--------------------------------\n",
            "Accuracy : 0.8923076923076924\n",
            "---------------------------------------------------------------------------------------------\n",
            "\n",
            "\n",
            "Gaussian NB with Genetics Classifier\n",
            "--------------------------------\n",
            "Accuracy : 0.9538461538461539\n",
            "---------------------------------------------------------------------------------------------\n",
            "\n",
            "\n",
            "K Nearest Neighbor Classifier\n",
            "--------------------------------\n",
            "Accuracy : 0.8153846153846154\n",
            "---------------------------------------------------------------------------------------------\n",
            "\n",
            "\n",
            "K Nearest Neighbor with Genetics Classifier\n",
            "--------------------------------\n",
            "Accuracy : 0.9384615384615385\n",
            "---------------------------------------------------------------------------------------------\n",
            "\n",
            "\n",
            "Light GBM Classifier\n",
            "--------------------------------\n",
            "Accuracy : 0.9384615384615385\n",
            "---------------------------------------------------------------------------------------------\n",
            "\n",
            "\n",
            "Light GBM with Genetics Classifier\n",
            "--------------------------------\n",
            "Accuracy : 0.9692307692307692\n",
            "---------------------------------------------------------------------------------------------\n",
            "\n",
            "\n",
            "Random Forest Classifier\n",
            "--------------------------------\n",
            "Accuracy : 0.9384615384615385\n",
            "---------------------------------------------------------------------------------------------\n",
            "\n",
            "\n",
            "Random Forest with Genetics Classifier\n",
            "--------------------------------\n",
            "Accuracy : 0.9846153846153847\n",
            "---------------------------------------------------------------------------------------------\n",
            "\n",
            "\n",
            "Linear SVC Classifier\n",
            "--------------------------------\n",
            "Accuracy : 0.8923076923076924\n",
            "---------------------------------------------------------------------------------------------\n",
            "\n",
            "\n",
            "Linear SVC with Genetics Classifier\n",
            "--------------------------------\n",
            "Accuracy : 0.9384615384615385\n",
            "---------------------------------------------------------------------------------------------\n",
            "\n",
            "\n"
          ],
          "name": "stdout"
        }
      ]
    },
    {
      "cell_type": "code",
      "metadata": {
        "id": "FeCGATYExO1X"
      },
      "source": [
        "# Set the size of plot\n",
        "plt.rcParams[\"figure.figsize\"] = (30,10)\n",
        "\n",
        "# Plot the scores obtained by these algorithms\n",
        "k_fold_split_results.plotScores()"
      ],
      "execution_count": null,
      "outputs": []
    },
    {
      "cell_type": "markdown",
      "metadata": {
        "id": "Eo4fsy8_HEUO"
      },
      "source": [
        "## 8. Other Ideas"
      ]
    },
    {
      "cell_type": "markdown",
      "metadata": {
        "id": "IP-3WxDu_Gt3"
      },
      "source": [
        "For PCA \n",
        "* https://github.com/sharmaroshan/Students-Performance-Analytics/blob/master/Student_Performance.ipynb\n",
        "\n",
        "For SVR and NN(sklearn based)\n",
        "* https://github.com/divyansh21april/Student-Performance-Analysis-/blob/master/Student%20Performance%20Analysis.ipynb\n",
        "* https://github.com/Tsmith5151/udacity-student-intervention/blob/master/student_intervention.ipynb\n",
        "\n",
        "For Feature Selection\n",
        "* https://github.com/sachanganesh/student-performance-prediction/blob/master/model.py\n",
        "\n",
        "Neural Network\n",
        "* https://github.com/sean-huni/deep-learning/blob/master/part-1/deepl-stud.py"
      ]
    },
    {
      "cell_type": "code",
      "metadata": {
        "id": "fPeaIGiNHI8x"
      },
      "source": [
        ""
      ],
      "execution_count": null,
      "outputs": []
    },
    {
      "cell_type": "markdown",
      "metadata": {
        "id": "IYtWMzOvLQ3s"
      },
      "source": [
        "## Prevent random disconnects\n",
        "\n",
        "This cell runs JS code to automatic reconnect to runtime."
      ]
    },
    {
      "cell_type": "code",
      "metadata": {
        "colab": {
          "base_uri": "https://localhost:8080/",
          "height": 34
        },
        "id": "jtClEMAMLVHw",
        "outputId": "379a3e29-5936-447c-f64b-7b1f022cb5e0"
      },
      "source": [
        "import IPython\n",
        "from google.colab import output\n",
        "\n",
        "display(IPython.display.Javascript('''\n",
        " function ClickConnect(){\n",
        "   btn = document.querySelector(\"colab-connect-button\")\n",
        "   if (btn != null){\n",
        "     console.log(\"Click colab-connect-button\"); \n",
        "     btn.click() \n",
        "     }\n",
        "   \n",
        "   btn = document.getElementById('ok')\n",
        "   if (btn != null){\n",
        "     console.log(\"Click reconnect\"); \n",
        "     btn.click() \n",
        "     }\n",
        "  }\n",
        "  \n",
        "setInterval(ClickConnect,60000)\n",
        "'''))\n",
        "\n",
        "print(\"Done.\")"
      ],
      "execution_count": null,
      "outputs": [
        {
          "output_type": "display_data",
          "data": {
            "application/javascript": [
              "\n",
              " function ClickConnect(){\n",
              "   btn = document.querySelector(\"colab-connect-button\")\n",
              "   if (btn != null){\n",
              "     console.log(\"Click colab-connect-button\"); \n",
              "     btn.click() \n",
              "     }\n",
              "   \n",
              "   btn = document.getElementById('ok')\n",
              "   if (btn != null){\n",
              "     console.log(\"Click reconnect\"); \n",
              "     btn.click() \n",
              "     }\n",
              "  }\n",
              "  \n",
              "setInterval(ClickConnect,60000)\n"
            ],
            "text/plain": [
              "<IPython.core.display.Javascript object>"
            ]
          },
          "metadata": {
            "tags": []
          }
        },
        {
          "output_type": "stream",
          "text": [
            "Done.\n"
          ],
          "name": "stdout"
        }
      ]
    },
    {
      "cell_type": "markdown",
      "metadata": {
        "id": "hBEugqdJgZAe"
      },
      "source": [
        "### Classification with 5-Level with k-fold validation`"
      ]
    },
    {
      "cell_type": "code",
      "metadata": {
        "colab": {
          "base_uri": "https://localhost:8080/"
        },
        "id": "hAD0v6WYEXbU",
        "outputId": "72bff987-2780-49b6-ea01-1743493d73e0"
      },
      "source": [
        "dataset = (X_train_2, X_test_2, Y_train_2, Y_test_2)\n",
        "k_fold_split_results = MLResultsAnalysis()\n",
        "trainAndValidateModels(k_fold_split_results, options, dataset)\n",
        "k_fold_split_results.displayResults()\n"
      ],
      "execution_count": null,
      "outputs": [
        {
          "output_type": "stream",
          "text": [
            "Decision Tree Classifier\n",
            "--------------------------------\n",
            "Accuracy : 0.6461538461538462\n",
            "---------------------------------------------------------------------------------------------\n",
            "\n",
            "\n",
            "Decision Tree with Genetics Classifier\n",
            "--------------------------------\n",
            "Accuracy : 0.8\n",
            "---------------------------------------------------------------------------------------------\n",
            "\n",
            "\n",
            "Bernoulli NB Classifier\n",
            "--------------------------------\n",
            "Accuracy : 0.6615384615384615\n",
            "---------------------------------------------------------------------------------------------\n",
            "\n",
            "\n",
            "Bernoulli NB with Genetics Classifier\n",
            "--------------------------------\n",
            "Accuracy : 0.6923076923076923\n",
            "---------------------------------------------------------------------------------------------\n",
            "\n",
            "\n",
            "Gaussian NB Classifier\n",
            "--------------------------------\n",
            "Accuracy : 0.27692307692307694\n",
            "---------------------------------------------------------------------------------------------\n",
            "\n",
            "\n",
            "Gaussian NB with Genetics Classifier\n",
            "--------------------------------\n",
            "Accuracy : 0.7538461538461538\n",
            "---------------------------------------------------------------------------------------------\n",
            "\n",
            "\n",
            "K Nearest Neighbor Classifier\n",
            "--------------------------------\n",
            "Accuracy : 0.5692307692307692\n",
            "---------------------------------------------------------------------------------------------\n",
            "\n",
            "\n",
            "K Nearest Neighbor with Genetics Classifier\n",
            "--------------------------------\n",
            "Accuracy : 0.7846153846153846\n",
            "---------------------------------------------------------------------------------------------\n",
            "\n",
            "\n",
            "Light GBM Classifier\n",
            "--------------------------------\n",
            "Accuracy : 0.7692307692307693\n",
            "---------------------------------------------------------------------------------------------\n",
            "\n",
            "\n",
            "Light GBM with Genetics Classifier\n",
            "--------------------------------\n",
            "Accuracy : 0.8307692307692308\n",
            "---------------------------------------------------------------------------------------------\n",
            "\n",
            "\n",
            "Random Forest Classifier\n",
            "--------------------------------\n",
            "Accuracy : 0.8\n",
            "---------------------------------------------------------------------------------------------\n",
            "\n",
            "\n",
            "Random Forest with Genetics Classifier\n",
            "--------------------------------\n",
            "Accuracy : 0.8307692307692308\n",
            "---------------------------------------------------------------------------------------------\n",
            "\n",
            "\n",
            "Linear SVC Classifier\n",
            "--------------------------------\n",
            "Accuracy : 0.6923076923076923\n",
            "---------------------------------------------------------------------------------------------\n",
            "\n",
            "\n",
            "Linear SVC with Genetics Classifier\n",
            "--------------------------------\n",
            "Accuracy : 0.8153846153846154\n",
            "---------------------------------------------------------------------------------------------\n",
            "\n",
            "\n"
          ],
          "name": "stdout"
        }
      ]
    },
    {
      "cell_type": "markdown",
      "metadata": {
        "id": "pT4qgo4MeA5-"
      },
      "source": [
        "### CLASSIFICATION ALGORITHM FOR 2 LEVEL WITHOUT K-FOLD VALIDATION"
      ]
    },
    {
      "cell_type": "code",
      "metadata": {
        "colab": {
          "base_uri": "https://localhost:8080/"
        },
        "id": "XqoLCgTuEdRo",
        "outputId": "3d1fd255-8c99-49b4-db0d-e7d499d1daf4"
      },
      "source": [
        "dataset = (X_train_1, X_test_1, Y_train_1, Y_test_1)\n",
        "test_train_split_results = MLResultsAnalysis()\n",
        "trainAndValidateModels(test_train_split_results, options, dataset)\n",
        "test_train_split_results.displayResults()"
      ],
      "execution_count": null,
      "outputs": [
        {
          "output_type": "stream",
          "text": [
            "Decision Tree Classifier\n",
            "--------------------------------\n",
            "Accuracy : 0.9076923076923077\n",
            "---------------------------------------------------------------------------------------------\n",
            "\n",
            "\n",
            "Decision Tree with Genetics Classifier\n",
            "--------------------------------\n",
            "Accuracy : 1.0\n",
            "---------------------------------------------------------------------------------------------\n",
            "\n",
            "\n",
            "Bernoulli NB Classifier\n",
            "--------------------------------\n",
            "Accuracy : 0.9230769230769231\n",
            "---------------------------------------------------------------------------------------------\n",
            "\n",
            "\n",
            "Bernoulli NB with Genetics Classifier\n",
            "--------------------------------\n",
            "Accuracy : 0.9692307692307692\n",
            "---------------------------------------------------------------------------------------------\n",
            "\n",
            "\n",
            "Gaussian NB Classifier\n",
            "--------------------------------\n",
            "Accuracy : 0.9076923076923077\n",
            "---------------------------------------------------------------------------------------------\n",
            "\n",
            "\n",
            "Gaussian NB with Genetics Classifier\n",
            "--------------------------------\n",
            "Accuracy : 0.9692307692307692\n",
            "---------------------------------------------------------------------------------------------\n",
            "\n",
            "\n",
            "K Nearest Neighbor Classifier\n",
            "--------------------------------\n",
            "Accuracy : 0.8923076923076924\n",
            "---------------------------------------------------------------------------------------------\n",
            "\n",
            "\n",
            "K Nearest Neighbor with Genetics Classifier\n",
            "--------------------------------\n",
            "Accuracy : 0.9692307692307692\n",
            "---------------------------------------------------------------------------------------------\n",
            "\n",
            "\n",
            "Light GBM Classifier\n",
            "--------------------------------\n",
            "Accuracy : 0.9230769230769231\n",
            "---------------------------------------------------------------------------------------------\n",
            "\n",
            "\n",
            "Light GBM with Genetics Classifier\n",
            "--------------------------------\n",
            "Accuracy : 0.9846153846153847\n",
            "---------------------------------------------------------------------------------------------\n",
            "\n",
            "\n",
            "Random Forest Classifier\n",
            "--------------------------------\n",
            "Accuracy : 0.8923076923076924\n",
            "---------------------------------------------------------------------------------------------\n",
            "\n",
            "\n",
            "Random Forest with Genetics Classifier\n",
            "--------------------------------\n",
            "Accuracy : 0.9846153846153847\n",
            "---------------------------------------------------------------------------------------------\n",
            "\n",
            "\n",
            "Linear SVC Classifier\n",
            "--------------------------------\n",
            "Accuracy : 0.9384615384615385\n",
            "---------------------------------------------------------------------------------------------\n",
            "\n",
            "\n",
            "Linear SVC with Genetics Classifier\n",
            "--------------------------------\n",
            "Accuracy : 0.9846153846153847\n",
            "---------------------------------------------------------------------------------------------\n",
            "\n",
            "\n"
          ],
          "name": "stdout"
        }
      ]
    },
    {
      "cell_type": "markdown",
      "metadata": {
        "id": "DQ2ZWX7xgFQu"
      },
      "source": [
        "### Classification 2-Level without G2 and G1, without k-fold valiation"
      ]
    },
    {
      "cell_type": "code",
      "metadata": {
        "colab": {
          "base_uri": "https://localhost:8080/"
        },
        "id": "_gSAniuvd6xD",
        "outputId": "e6d5d7f6-b10a-4b4a-b665-f362a7f8ccb1"
      },
      "source": [
        "X_train_1.drop(\"G2\",axis='columns', inplace=True)\n",
        "X_train_1.drop(\"G1\",axis='columns', inplace=True)\n",
        "X_test_1.drop(\"G2\",axis='columns', inplace=True)\n",
        "X_test_1.drop(\"G1\",axis='columns', inplace=True)"
      ],
      "execution_count": null,
      "outputs": [
        {
          "output_type": "stream",
          "text": [
            "/usr/local/lib/python3.7/dist-packages/pandas/core/frame.py:4174: SettingWithCopyWarning: \n",
            "A value is trying to be set on a copy of a slice from a DataFrame\n",
            "\n",
            "See the caveats in the documentation: https://pandas.pydata.org/pandas-docs/stable/user_guide/indexing.html#returning-a-view-versus-a-copy\n",
            "  errors=errors,\n"
          ],
          "name": "stderr"
        }
      ]
    },
    {
      "cell_type": "code",
      "metadata": {
        "colab": {
          "base_uri": "https://localhost:8080/"
        },
        "id": "iEPZwWqWfsPN",
        "outputId": "65076000-d22e-441c-c0b5-632591cbc5f2"
      },
      "source": [
        "dataset = (X_train_1, X_test_1, Y_train_1, Y_test_1)\n",
        "test_train_split_results = MLResultsAnalysis()\n",
        "trainAndValidateModels(test_train_split_results, options, dataset)\n",
        "test_train_split_results.displayResults()"
      ],
      "execution_count": null,
      "outputs": [
        {
          "output_type": "stream",
          "text": [
            "Decision Tree Classifier\n",
            "--------------------------------\n",
            "Accuracy : 0.8461538461538461\n",
            "---------------------------------------------------------------------------------------------\n",
            "\n",
            "\n",
            "Decision Tree with Genetics Classifier\n",
            "--------------------------------\n",
            "Accuracy : 0.9230769230769231\n",
            "---------------------------------------------------------------------------------------------\n",
            "\n",
            "\n",
            "Bernoulli NB Classifier\n",
            "--------------------------------\n",
            "Accuracy : 0.9230769230769231\n",
            "---------------------------------------------------------------------------------------------\n",
            "\n",
            "\n",
            "Bernoulli NB with Genetics Classifier\n",
            "--------------------------------\n",
            "Accuracy : 0.9384615384615385\n",
            "---------------------------------------------------------------------------------------------\n",
            "\n",
            "\n",
            "Gaussian NB Classifier\n",
            "--------------------------------\n",
            "Accuracy : 0.8615384615384616\n",
            "---------------------------------------------------------------------------------------------\n",
            "\n",
            "\n",
            "Gaussian NB with Genetics Classifier\n",
            "--------------------------------\n",
            "Accuracy : 0.9384615384615385\n",
            "---------------------------------------------------------------------------------------------\n",
            "\n",
            "\n",
            "K Nearest Neighbor Classifier\n",
            "--------------------------------\n",
            "Accuracy : 0.8769230769230769\n",
            "---------------------------------------------------------------------------------------------\n",
            "\n",
            "\n",
            "K Nearest Neighbor with Genetics Classifier\n",
            "--------------------------------\n",
            "Accuracy : 0.9384615384615385\n",
            "---------------------------------------------------------------------------------------------\n",
            "\n",
            "\n",
            "Light GBM Classifier\n",
            "--------------------------------\n",
            "Accuracy : 0.8923076923076924\n",
            "---------------------------------------------------------------------------------------------\n",
            "\n",
            "\n",
            "Light GBM with Genetics Classifier\n",
            "--------------------------------\n",
            "Accuracy : 0.9538461538461539\n",
            "---------------------------------------------------------------------------------------------\n",
            "\n",
            "\n",
            "Random Forest Classifier\n",
            "--------------------------------\n",
            "Accuracy : 0.8923076923076924\n",
            "---------------------------------------------------------------------------------------------\n",
            "\n",
            "\n",
            "Random Forest with Genetics Classifier\n",
            "--------------------------------\n",
            "Accuracy : 0.9538461538461539\n",
            "---------------------------------------------------------------------------------------------\n",
            "\n",
            "\n",
            "Linear SVC Classifier\n",
            "--------------------------------\n",
            "Accuracy : 0.9230769230769231\n",
            "---------------------------------------------------------------------------------------------\n",
            "\n",
            "\n",
            "Linear SVC with Genetics Classifier\n",
            "--------------------------------\n",
            "Accuracy : 0.9384615384615385\n",
            "---------------------------------------------------------------------------------------------\n",
            "\n",
            "\n"
          ],
          "name": "stdout"
        }
      ]
    },
    {
      "cell_type": "code",
      "metadata": {
        "id": "vOnrm4C7f6jp",
        "colab": {
          "base_uri": "https://localhost:8080/",
          "height": 295
        },
        "outputId": "1423f40d-c0e8-432d-e921-ce13b3ce8268"
      },
      "source": [
        "import random\n",
        "import pandas as pd\n",
        "import numpy as np\n",
        "import matplotlib.pyplot as plt\n",
        "from matplotlib.font_manager import FontProperties\n",
        "\n",
        "fontP = FontProperties()\n",
        "fontP.set_size('small')\n",
        "\n",
        "index = np.arange(7)\n",
        "bar_width = 0.35\n",
        "\n",
        "fig, ax = plt.subplots()\n",
        "summer = ax.bar(index, [0.815, 0.907, 0.892, 0.892, 0.938, 0.892, 0.938  ], bar_width,\n",
        "                label=\"Without Genetic Algorithm\")\n",
        "\n",
        "winter = ax.bar(index+bar_width, [0.938, 0.984, 0.953, 0.953, 0.969, 0.938, 0.9846],\n",
        "                 bar_width, label=\"With Genetic Algorithm\")\n",
        "\n",
        "ax.set_xlabel('Classification Algorithm')\n",
        "ax.set_ylabel('Accuracy')\n",
        "ax.set_title('Accuracy score for 2 Level Classification of Grades')\n",
        "ax.set_xticks(index + bar_width / 2)\n",
        "ax.set_xticklabels([\"KNN\", \"J48\", \"BNB\", \"GNB\", \"LGBM\",\"LSVC\",\"RF\"])\n",
        "ax.legend(prop=fontP)\n",
        "\n",
        "plt.ylim(0.7, 1.05)\n",
        "plt.show()"
      ],
      "execution_count": null,
      "outputs": [
        {
          "output_type": "display_data",
          "data": {
            "image/png": "[encoded data removed]",
            "text/plain": [
              "<Figure size 432x288 with 1 Axes>"
            ]
          },
          "metadata": {
            "tags": [],
            "needs_background": "light"
          }
        }
      ]
    },
    {
      "cell_type": "code",
      "metadata": {
        "colab": {
          "base_uri": "https://localhost:8080/",
          "height": 295
        },
        "id": "2Ts7hmch4dFx",
        "outputId": "d8774984-e058-4a5d-a91a-06891167a164"
      },
      "source": [
        "import random\n",
        "import pandas as pd\n",
        "import numpy as np\n",
        "import matplotlib.pyplot as plt\n",
        "\n",
        "\n",
        "index = np.arange(7)\n",
        "bar_width = 0.35\n",
        "\n",
        "fig, ax = plt.subplots()\n",
        "summer = ax.bar(index, [0.569, 0.646, 0.661, 0.276,0.769, 0.692, 0.800  ], bar_width,\n",
        "                label=\"Without Genetic Algorithm\")\n",
        "\n",
        "winter = ax.bar(index+bar_width, [0.784, 0.800, 0.692, 0.753, 0.830, 0.815, 0.831],\n",
        "                 bar_width, label=\"With Genetic Algorithm\")\n",
        "\n",
        "ax.set_xlabel('Classification Algorithm')\n",
        "ax.set_ylabel('Accuracy')\n",
        "ax.set_title('Accuracy score for 5 Level Classification of Grades')\n",
        "ax.set_xticks(index + bar_width / 2)\n",
        "ax.set_xticklabels([\"KNN\", \"J48\", \"BNB\", \"GNB\", \"LGBM\",\"LSVC\",\"RF\"])\n",
        "ax.legend()\n",
        "\n",
        "plt.ylim(0, 1.2)\n",
        "plt.show()"
      ],
      "execution_count": null,
      "outputs": [
        {
          "output_type": "display_data",
          "data": {
            "image/png": "[encoded data removed]",
            "text/plain": [
              "<Figure size 432x288 with 1 Axes>"
            ]
          },
          "metadata": {
            "tags": [],
            "needs_background": "light"
          }
        }
      ]
    },
    {
      "cell_type": "code",
      "metadata": {
        "id": "1Dfiiw075nRh"
      },
      "source": [
        ""
      ],
      "execution_count": null,
      "outputs": []
    }
  ]
}